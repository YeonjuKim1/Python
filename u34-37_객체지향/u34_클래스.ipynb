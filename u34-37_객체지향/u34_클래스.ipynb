{
  "nbformat": 4,
  "nbformat_minor": 0,
  "metadata": {
    "colab": {
      "name": "u34_클래스.ipynb",
      "provenance": [],
      "collapsed_sections": []
    },
    "kernelspec": {
      "name": "python3",
      "display_name": "Python 3"
    },
    "language_info": {
      "name": "python"
    }
  },
  "cells": [
    {
      "cell_type": "markdown",
      "metadata": {
        "id": "IP4gNBMr65Ul"
      },
      "source": [
        "# Unit 34. 클래스(Class)"
      ]
    },
    {
      "cell_type": "markdown",
      "metadata": {
        "id": "lOa96Web7b7B"
      },
      "source": [
        "## 34.1 클래스와 메서드 만들기"
      ]
    },
    {
      "cell_type": "code",
      "metadata": {
        "id": "qndSH9ugwVon"
      },
      "source": [
        "class Person:   # 클래스 이름은 대문자로 시작\n",
        "  def greeting(self):\n",
        "    print('Hello')"
      ],
      "execution_count": null,
      "outputs": []
    },
    {
      "cell_type": "code",
      "metadata": {
        "id": "4O0auT2R75Rm"
      },
      "source": [
        "# 인스턴스를 만들어야 클래스를 사용할 수 있다\n",
        "james = Person()\n",
        "maria = Person()"
      ],
      "execution_count": null,
      "outputs": []
    },
    {
      "cell_type": "code",
      "metadata": {
        "colab": {
          "base_uri": "https://localhost:8080/"
        },
        "id": "efOHxTlr8rQD",
        "outputId": "69ee0155-8ce2-4d50-efdc-e0434465416d"
      },
      "source": [
        "james.greeting()"
      ],
      "execution_count": null,
      "outputs": [
        {
          "output_type": "stream",
          "text": [
            "Hello\n"
          ],
          "name": "stdout"
        }
      ]
    },
    {
      "cell_type": "code",
      "metadata": {
        "colab": {
          "base_uri": "https://localhost:8080/"
        },
        "id": "zgTxFlAb9nSP",
        "outputId": "0cd868bb-2392-42cd-8fcf-04872d543a3a"
      },
      "source": [
        "maria.greeting()"
      ],
      "execution_count": null,
      "outputs": [
        {
          "output_type": "stream",
          "text": [
            "Hello\n"
          ],
          "name": "stdout"
        }
      ]
    },
    {
      "cell_type": "code",
      "metadata": {
        "colab": {
          "base_uri": "https://localhost:8080/"
        },
        "id": "BxFgojty9owe",
        "outputId": "480d8d4b-de8b-4970-9882-d09c62783485"
      },
      "source": [
        "Person().greeting()"
      ],
      "execution_count": null,
      "outputs": [
        {
          "output_type": "stream",
          "text": [
            "Hello\n"
          ],
          "name": "stdout"
        }
      ]
    },
    {
      "cell_type": "code",
      "metadata": {
        "id": "M8m8KtG49qPa"
      },
      "source": [
        "class Person:\n",
        "  def greeting(self):\n",
        "    print('Hello')\n",
        "  def hello(self):\n",
        "    self.greeting()"
      ],
      "execution_count": null,
      "outputs": []
    },
    {
      "cell_type": "code",
      "metadata": {
        "colab": {
          "base_uri": "https://localhost:8080/"
        },
        "id": "tP4RaApQ-X1i",
        "outputId": "9005b2dd-4ba0-4af1-df5b-0c7fea6fc3e9"
      },
      "source": [
        "james = Person()\n",
        "james.hello()"
      ],
      "execution_count": null,
      "outputs": [
        {
          "output_type": "stream",
          "text": [
            "Hello\n"
          ],
          "name": "stdout"
        }
      ]
    },
    {
      "cell_type": "code",
      "metadata": {
        "colab": {
          "base_uri": "https://localhost:8080/"
        },
        "id": "AsxDpE9c-c4q",
        "outputId": "b9162e48-0261-4011-e2bc-bd875be6152e"
      },
      "source": [
        "isinstance(james, Person)"
      ],
      "execution_count": null,
      "outputs": [
        {
          "output_type": "execute_result",
          "data": {
            "text/plain": [
              "True"
            ]
          },
          "metadata": {
            "tags": []
          },
          "execution_count": 9
        }
      ]
    },
    {
      "cell_type": "code",
      "metadata": {
        "id": "HM9IyYBZ-zaF"
      },
      "source": [
        "def factorial(n):\n",
        "  if not isinstance(n, int) or n < 0:\n",
        "    return None\n",
        "  if n == 0:\n",
        "    return 1\n",
        "  return n*factorial(n-1)"
      ],
      "execution_count": null,
      "outputs": []
    },
    {
      "cell_type": "code",
      "metadata": {
        "id": "ALUc6CMT_G0m"
      },
      "source": [
        "factorial(3.14)"
      ],
      "execution_count": null,
      "outputs": []
    },
    {
      "cell_type": "code",
      "metadata": {
        "colab": {
          "base_uri": "https://localhost:8080/"
        },
        "id": "DWAmVniV_btE",
        "outputId": "bbaa95c6-4cd4-4016-88f6-996d0286cf04"
      },
      "source": [
        "factorial(6)"
      ],
      "execution_count": null,
      "outputs": [
        {
          "output_type": "execute_result",
          "data": {
            "text/plain": [
              "720"
            ]
          },
          "metadata": {
            "tags": []
          },
          "execution_count": 12
        }
      ]
    },
    {
      "cell_type": "markdown",
      "metadata": {
        "id": "CMwBZtU0_d-m"
      },
      "source": [
        "## 34.2 속성(Attribute)"
      ]
    },
    {
      "cell_type": "code",
      "metadata": {
        "id": "UCfH-S4d_f9g"
      },
      "source": [
        "class Person:\n",
        "  def __init__(self):\n",
        "    self.hello = '안녕하세요'   # hello 속성을 갖게 됨\n",
        "  def greeting(self):\n",
        "    print(self.hello)"
      ],
      "execution_count": null,
      "outputs": []
    },
    {
      "cell_type": "code",
      "metadata": {
        "colab": {
          "base_uri": "https://localhost:8080/"
        },
        "id": "WaerrCWfAWwd",
        "outputId": "3907565f-1f6e-41ea-ffda-92b0b8d93bea"
      },
      "source": [
        "maria = Person()\n",
        "maria.greeting()"
      ],
      "execution_count": null,
      "outputs": [
        {
          "output_type": "stream",
          "text": [
            "안녕하세요\n"
          ],
          "name": "stdout"
        }
      ]
    },
    {
      "cell_type": "code",
      "metadata": {
        "colab": {
          "base_uri": "https://localhost:8080/"
        },
        "id": "a5J5ykH6AaKm",
        "outputId": "6a1d609e-08b9-444c-bcdf-380d8a447f36"
      },
      "source": [
        "maria.hello = \"How are you?\"\n",
        "maria.greeting()"
      ],
      "execution_count": null,
      "outputs": [
        {
          "output_type": "stream",
          "text": [
            "How are you?\n"
          ],
          "name": "stdout"
        }
      ]
    },
    {
      "cell_type": "code",
      "metadata": {
        "id": "LyeeQzf6ArI2"
      },
      "source": [
        "class Person:\n",
        "  def __init__(self, hello):  # Constructor\n",
        "    self.hello = hello\n",
        "\n",
        "  def greeting(self):\n",
        "    print(self.hello)"
      ],
      "execution_count": null,
      "outputs": []
    },
    {
      "cell_type": "code",
      "metadata": {
        "id": "xGAHoG4UBsHz"
      },
      "source": [
        "# 생성자(Constructor) 찾아감.\n",
        "james = Person('안녕하세요?')\n",
        "maris = Person('How are you?')"
      ],
      "execution_count": null,
      "outputs": []
    },
    {
      "cell_type": "code",
      "metadata": {
        "colab": {
          "base_uri": "https://localhost:8080/"
        },
        "id": "1bYJpHVyB8U0",
        "outputId": "86a90d8c-1ab7-4f1e-b341-28f0669a53a1"
      },
      "source": [
        "james.greeting()\n",
        "maria.greeting()"
      ],
      "execution_count": null,
      "outputs": [
        {
          "output_type": "stream",
          "text": [
            "안녕하세요?\n",
            "How are you?\n"
          ],
          "name": "stdout"
        }
      ]
    },
    {
      "cell_type": "code",
      "metadata": {
        "id": "ewJv1rFOB_Sf"
      },
      "source": [
        "class Person:\n",
        "  def __init__(self, name, age, addr):\n",
        "    self.hello = '안녕하세요?'\n",
        "    self.name = name\n",
        "    self.age = age\n",
        "    self.addr = addr\n",
        "\n",
        "  def greeting(self):\n",
        "    print(f'{self.hello} 저는 {self.name}입니다')\n",
        "\n",
        "  # JAVA의 toString() method\n",
        "  def __str__(self):\n",
        "    return f'hello: {self.hello}, name: {self.name}, age: {self.age}, addr: {self.addr}'\n"
      ],
      "execution_count": null,
      "outputs": []
    },
    {
      "cell_type": "code",
      "metadata": {
        "colab": {
          "base_uri": "https://localhost:8080/"
        },
        "id": "QfusDyWkC2sD",
        "outputId": "e29709ef-70d6-441e-e22f-bf5e3fbea1d3"
      },
      "source": [
        "maria = Person('마리아', 23, '서울시 강남구 도곡동')\n",
        "maria.greeting()"
      ],
      "execution_count": null,
      "outputs": [
        {
          "output_type": "stream",
          "text": [
            "안녕하세요? 저는 마리아입니다\n"
          ],
          "name": "stdout"
        }
      ]
    },
    {
      "cell_type": "code",
      "metadata": {
        "colab": {
          "base_uri": "https://localhost:8080/"
        },
        "id": "HAB3xr-iDNZQ",
        "outputId": "d8f7f115-ded4-41e4-c06f-7185d450b6cf"
      },
      "source": [
        "print(maria)"
      ],
      "execution_count": null,
      "outputs": [
        {
          "output_type": "stream",
          "text": [
            "hello: 안녕하세요?, name: 마리아, age: 23, addr: 서울시 강남구 도곡동\n"
          ],
          "name": "stdout"
        }
      ]
    },
    {
      "cell_type": "markdown",
      "metadata": {
        "id": "A2hfHDMmV9tS"
      },
      "source": [
        "## 34.3 비공개 속성"
      ]
    },
    {
      "cell_type": "code",
      "metadata": {
        "colab": {
          "base_uri": "https://localhost:8080/"
        },
        "id": "jUeISW--VKp6",
        "outputId": "b89a031d-1050-48c8-c747-2a59c8e1da52"
      },
      "source": [
        "maria.age = 30\n",
        "print(maria)"
      ],
      "execution_count": null,
      "outputs": [
        {
          "output_type": "stream",
          "text": [
            "hello: 안녕하세요?, name: 마리아, age: 30, addr: 서울시 강남구 도곡동\n"
          ],
          "name": "stdout"
        }
      ]
    },
    {
      "cell_type": "code",
      "metadata": {
        "id": "WX4kagRpWCgj"
      },
      "source": [
        "class Person:\n",
        "  def __init__(self, name, age, addr, wallet):\n",
        "    self.hello = '안녕하세요?'\n",
        "    self.name = name\n",
        "    self.age = age\n",
        "    self.addr = addr\n",
        "    self.__wallet = wallet  # __wallet 속성은 비공개\n",
        "\n",
        "  def greeting(self):\n",
        "    print(f'{self.hello} 저는 {self.name}입니다')\n",
        "\n",
        "  def pay(self, amount):\n",
        "    if self.__wallet - amount < 0:\n",
        "      print('지갑에 돈이 부족합니다.')\n",
        "      return\n",
        "    self.__wallet -= amount\n",
        "    print(f'지갑에 남은 돈은 {self.__wallet}입니다.')\n",
        "\n",
        "  # JAVA의 toString() method\n",
        "  def __str__(self):\n",
        "    return f'hello: {self.hello}, name: {self.name}, age: {self.age}, addr: {self.addr}'"
      ],
      "execution_count": null,
      "outputs": []
    },
    {
      "cell_type": "code",
      "metadata": {
        "colab": {
          "base_uri": "https://localhost:8080/"
        },
        "id": "P_35eLRiXHC6",
        "outputId": "6dddc806-5921-4713-f2a0-3bb36d1ff1cc"
      },
      "source": [
        "james = Person('제임스', 27, '서울 강남구 역삼동', 10000)\n",
        "james.greeting()"
      ],
      "execution_count": null,
      "outputs": [
        {
          "output_type": "stream",
          "text": [
            "안녕하세요? 저는 제임스입니다\n"
          ],
          "name": "stdout"
        }
      ]
    },
    {
      "cell_type": "code",
      "metadata": {
        "colab": {
          "base_uri": "https://localhost:8080/"
        },
        "id": "AlI0vzPkXOQb",
        "outputId": "875ad8a0-6ac4-4ce9-8e83-b389547a4fcc"
      },
      "source": [
        "print(james)"
      ],
      "execution_count": null,
      "outputs": [
        {
          "output_type": "stream",
          "text": [
            "hello: 안녕하세요?, name: 제임스, age: 27, addr: 서울 강남구 역삼동\n"
          ],
          "name": "stdout"
        }
      ]
    },
    {
      "cell_type": "code",
      "metadata": {
        "id": "hMToUIFcXVbp"
      },
      "source": [
        "# __wallet은 비공개 속성이므로 클래스 바깥에서는 변경할 수 없음\n",
        "james.__wallet = 1000000"
      ],
      "execution_count": null,
      "outputs": []
    },
    {
      "cell_type": "code",
      "metadata": {
        "colab": {
          "base_uri": "https://localhost:8080/"
        },
        "id": "0Rq6s3mAXdbW",
        "outputId": "32358461-232f-48e7-dd89-46fe56c97915"
      },
      "source": [
        "print(james)"
      ],
      "execution_count": null,
      "outputs": [
        {
          "output_type": "stream",
          "text": [
            "hello: 안녕하세요?, name: 제임스, age: 27, addr: 서울 강남구 역삼동\n"
          ],
          "name": "stdout"
        }
      ]
    },
    {
      "cell_type": "code",
      "metadata": {
        "colab": {
          "base_uri": "https://localhost:8080/"
        },
        "id": "zPfD8ut6Xe2U",
        "outputId": "426a9752-a32d-4f41-dfb4-7e407a4e5200"
      },
      "source": [
        "james.pay(5000)"
      ],
      "execution_count": null,
      "outputs": [
        {
          "output_type": "stream",
          "text": [
            "지갑에 남은 돈은 5000입니다.\n"
          ],
          "name": "stdout"
        }
      ]
    },
    {
      "cell_type": "markdown",
      "metadata": {
        "id": "kGvlOwtbZ6y9"
      },
      "source": [
        "# 문제 : Account\n",
        "- ano: 문자열 6글자 '123456'\n",
        "- owner: 문자열\n",
        "- balance: 잔액, 비공개 속성\n",
        "\n",
        "- 생성자\n",
        "- deposit(amount)  잔액이 1000만원 이상은 입금할 수 없음\n",
        "- withdraw(amount)  잔액이 0원 미만이면 출금할 수 없음\n",
        "- 출력 가능하게"
      ]
    },
    {
      "cell_type": "code",
      "metadata": {
        "id": "wTL6iQ-dYTwT"
      },
      "source": [
        "class Account:\n",
        "  def __init__(ano, owner, balance):\n",
        "    self.ano = ano\n",
        "    self.owner = owner\n",
        "    self.__balance = balance\n",
        "\n",
        "  def deposit(self, amount):\n",
        "    if self.__balance >=10000000:\n",
        "      print('잔액이 1000만원 이상이라 입금할 수 없습니다.')\n",
        "    self.__balance += amount\n",
        "    print(f'지갑에 남은 돈은 {self.__balance}입니다.')\n",
        "    \n",
        "  def withdraw(self, amount):\n",
        "    if self.__balance < 0:\n",
        "      print('잔액이 0원 미만이라 출금할 수 없습니다.')\n",
        "      return\n",
        "    self.__balance -= amount\n",
        "    print(f'지갑에 남은 돈은 {self.__balance}입니다.')\n"
      ],
      "execution_count": null,
      "outputs": []
    },
    {
      "cell_type": "code",
      "metadata": {
        "id": "0KRhA1_NcqSf"
      },
      "source": [
        "# 강사님\n",
        "class Account:\n",
        "  def __init__(self, ano, owner, balance):\n",
        "    self.ano = ano\n",
        "    self.owner = owner\n",
        "    self.__balance = balance\n",
        "\n",
        "  def deposit(self, amount):\n",
        "    if amount + self.__balance >= 10000000:\n",
        "      print('천만원 이상은 잔액으로 가져갈 수 없습니다.')\n",
        "      return\n",
        "    self.__balance += amount\n",
        "\n",
        "  def withdraw(self, amount):\n",
        "    if self.__balance - amount < 0:\n",
        "      print('잔액이 부족합니다.')\n",
        "      return\n",
        "    self.__balance -= amount\n",
        "\n",
        "  def __str__(self):\n",
        "    return f'계좌번호: {self.ano}, 소유주: {self.owner}, 잔액: {self.__balance:9,d}'"
      ],
      "execution_count": null,
      "outputs": []
    },
    {
      "cell_type": "code",
      "metadata": {
        "colab": {
          "base_uri": "https://localhost:8080/"
        },
        "id": "gGZh4wdweBwT",
        "outputId": "f2ce35b3-caa0-408c-9974-11bad95356e1"
      },
      "source": [
        "acc = Account('123456', '제임스', 100000)\n",
        "print(acc)"
      ],
      "execution_count": null,
      "outputs": [
        {
          "output_type": "stream",
          "text": [
            "계좌번호: 123456, 소유주: 제임스, 잔액:   100,000\n"
          ],
          "name": "stdout"
        }
      ]
    },
    {
      "cell_type": "code",
      "metadata": {
        "colab": {
          "base_uri": "https://localhost:8080/"
        },
        "id": "gl1Qcg83ek2s",
        "outputId": "4e817acc-b89f-49dc-c197-97c4954cb2b9"
      },
      "source": [
        "acc.deposit(3000000)\n",
        "print(acc)"
      ],
      "execution_count": null,
      "outputs": [
        {
          "output_type": "stream",
          "text": [
            "계좌번호: 123456, 소유주: 제임스, 잔액: 3,100,000\n"
          ],
          "name": "stdout"
        }
      ]
    },
    {
      "cell_type": "code",
      "metadata": {
        "colab": {
          "base_uri": "https://localhost:8080/"
        },
        "id": "IpnayAHAepCl",
        "outputId": "08df192f-bc30-49a3-eb11-09b5f30205f5"
      },
      "source": [
        "acc.deposit(7000000)\n",
        "print(acc)"
      ],
      "execution_count": null,
      "outputs": [
        {
          "output_type": "stream",
          "text": [
            "천만원 이상은 잔액으로 가져갈 수 없습니다.\n",
            "계좌번호: 123456, 소유주: 제임스, 잔액: 3,100,000\n"
          ],
          "name": "stdout"
        }
      ]
    },
    {
      "cell_type": "code",
      "metadata": {
        "colab": {
          "base_uri": "https://localhost:8080/"
        },
        "id": "MkQ8d3vzeuSB",
        "outputId": "522d00d4-dc92-4fb5-8215-29022604dcf2"
      },
      "source": [
        "acc.withdraw(2000000)\n",
        "print(acc)"
      ],
      "execution_count": null,
      "outputs": [
        {
          "output_type": "stream",
          "text": [
            "계좌번호: 123456, 소유주: 제임스, 잔액: 1,100,000\n"
          ],
          "name": "stdout"
        }
      ]
    },
    {
      "cell_type": "code",
      "metadata": {
        "colab": {
          "base_uri": "https://localhost:8080/"
        },
        "id": "4AMy1hrWezcS",
        "outputId": "ad55cec6-8e3c-4bfa-c90f-7f49c7fbceaa"
      },
      "source": [
        "acc.withdraw(2000000)\n",
        "print(acc)"
      ],
      "execution_count": null,
      "outputs": [
        {
          "output_type": "stream",
          "text": [
            "잔액이 부족합니다.\n",
            "계좌번호: 123456, 소유주: 제임스, 잔액: 1,100,000\n"
          ],
          "name": "stdout"
        }
      ]
    },
    {
      "cell_type": "code",
      "metadata": {
        "colab": {
          "base_uri": "https://localhost:8080/"
        },
        "id": "v3xYOLlze2Qq",
        "outputId": "4250e60d-ebee-4fb6-bd65-44ec807fe508"
      },
      "source": [
        "acc2 = Account('987432', '마리아', 3000000)\n",
        "print(acc2)"
      ],
      "execution_count": null,
      "outputs": [
        {
          "output_type": "stream",
          "text": [
            "계좌번호: 987432, 소유주: 마리아, 잔액: 3,000,000\n"
          ],
          "name": "stdout"
        }
      ]
    },
    {
      "cell_type": "code",
      "metadata": {
        "id": "Pwa-RvB0fCnZ"
      },
      "source": [
        "acc_list = [acc, acc2]"
      ],
      "execution_count": null,
      "outputs": []
    },
    {
      "cell_type": "code",
      "metadata": {
        "colab": {
          "base_uri": "https://localhost:8080/"
        },
        "id": "l9g0alc3fn3f",
        "outputId": "91a0011d-8aa8-4789-8a61-f9350ca45d39"
      },
      "source": [
        "for account in acc_list:\n",
        "  print(account)"
      ],
      "execution_count": null,
      "outputs": [
        {
          "output_type": "stream",
          "text": [
            "계좌번호: 123456, 소유주: 제임스, 잔액: 1,100,000\n",
            "계좌번호: 987432, 소유주: 마리아, 잔액: 3,000,000\n"
          ],
          "name": "stdout"
        }
      ]
    },
    {
      "cell_type": "markdown",
      "metadata": {
        "id": "f52CDsu3fsvj"
      },
      "source": [
        "### 1:계좌생성, 2:계좌목록, 3:입금, 4:출금, 5:종료"
      ]
    },
    {
      "cell_type": "code",
      "metadata": {
        "id": "_sfIm60fs0La"
      },
      "source": [
        "# 계좌번호 중복\n",
        "def check_duplicate(ano):\n",
        "  for acc in acc_list:\n",
        "    if ano == acc.ano:\n",
        "      return True\n",
        "  return False"
      ],
      "execution_count": null,
      "outputs": []
    },
    {
      "cell_type": "code",
      "metadata": {
        "id": "AnW9ugpxkDqj"
      },
      "source": [
        "# 사용자로부터 필요한 정보를 입력 받아서 계좌를 생성함\n",
        "def create_account():\n",
        "  while True: # 계좌 중복 확인\n",
        "    s = input('계좌번호 성명 금액> ').split()\n",
        "    ano, owner = s[0], s[1]\n",
        "    amount = int(s[2])\n",
        "    if not check_duplicate(ano):\n",
        "      break\n",
        "  acc = Account(ano, owner, amount)\n",
        "  acc_list.append(acc)"
      ],
      "execution_count": null,
      "outputs": []
    },
    {
      "cell_type": "code",
      "metadata": {
        "id": "EwnZKBgGkDXr"
      },
      "source": [
        "# 사용자로부터 필요한 정보를 입력 받아서 계좌에 돈을 입금함\n",
        "def deposit_account():\n",
        "  s = input('계좌번호 금액> ').split()\n",
        "  ano, amount = s[0], int(s[1])\n",
        "  for acc in acc_list:\n",
        "    if acc.ano == ano:\n",
        "      acc.deposit(amount)\n",
        "      return"
      ],
      "execution_count": null,
      "outputs": []
    },
    {
      "cell_type": "code",
      "metadata": {
        "id": "SE4NwvVrkK4i"
      },
      "source": [
        "# 사용자로부터 필요한 정보를 입력 받아서 계좌에서 돈을 출금함\n",
        "def withdraw_account():\n",
        "  s = input('계좌번호 금액> ').split()\n",
        "  ano, amount = s[0], int(s[1])\n",
        "  for acc in acc_list:\n",
        "    if acc.ano == ano:\n",
        "      acc.withdraw(amount)\n",
        "      return"
      ],
      "execution_count": null,
      "outputs": []
    },
    {
      "cell_type": "code",
      "metadata": {
        "colab": {
          "base_uri": "https://localhost:8080/"
        },
        "id": "Kp2dp7qRfqge",
        "outputId": "ebe07ef2-462c-4923-aa5c-6db354a6acfb"
      },
      "source": [
        "while True:\n",
        "  menu = int(input('1:계좌생성, 2:계좌목록, 3:입금, 4:출금, 5:종료> '))\n",
        "  if menu == 5:\n",
        "    break\n",
        "  if menu == 1:\n",
        "    create_account()\n",
        "  elif menu == 2:\n",
        "    for account in acc_list:\n",
        "      print(account)\n",
        "  elif menu == 3:\n",
        "    deposit_account()\n",
        "  elif menu == 4:\n",
        "    withdraw_account()\n",
        "  else:\n",
        "    print('잘못된 명령어입니다.')\n",
        "  print()"
      ],
      "execution_count": null,
      "outputs": [
        {
          "output_type": "stream",
          "text": [
            "1:계좌생성, 2:계좌목록, 3:입금, 4:출금, 5:종료> 1\n",
            "계좌번호 성명 금액> 333555 홍길동 250000\n",
            "\n",
            "1:계좌생성, 2:계좌목록, 3:입금, 4:출금, 5:종료> 2\n",
            "계좌번호: 123456, 소유주: 제임스, 잔액: 1,100,000\n",
            "계좌번호: 987432, 소유주: 마리아, 잔액: 3,000,000\n",
            "계좌번호: 333555, 소유주: 홍길동, 잔액:   250,000\n",
            "\n",
            "1:계좌생성, 2:계좌목록, 3:입금, 4:출금, 5:종료> 4\n",
            "계좌번호 금액> 987432 330000\n",
            "\n",
            "1:계좌생성, 2:계좌목록, 3:입금, 4:출금, 5:종료> 2\n",
            "계좌번호: 123456, 소유주: 제임스, 잔액: 1,100,000\n",
            "계좌번호: 987432, 소유주: 마리아, 잔액: 2,670,000\n",
            "계좌번호: 333555, 소유주: 홍길동, 잔액:   250,000\n",
            "\n",
            "1:계좌생성, 2:계좌목록, 3:입금, 4:출금, 5:종료> 4\n",
            "계좌번호 금액> 123456 200000\n",
            "\n",
            "1:계좌생성, 2:계좌목록, 3:입금, 4:출금, 5:종료> 4\n",
            "계좌번호 금액> 123456 1000000\n",
            "잔액이 부족합니다.\n",
            "\n",
            "1:계좌생성, 2:계좌목록, 3:입금, 4:출금, 5:종료> 2\n",
            "계좌번호: 123456, 소유주: 제임스, 잔액:   900,000\n",
            "계좌번호: 987432, 소유주: 마리아, 잔액: 2,670,000\n",
            "계좌번호: 333555, 소유주: 홍길동, 잔액:   250,000\n",
            "\n",
            "1:계좌생성, 2:계좌목록, 3:입금, 4:출금, 5:종료> 5\n"
          ],
          "name": "stdout"
        }
      ]
    },
    {
      "cell_type": "code",
      "metadata": {
        "id": "nHxkfvCgomwX"
      },
      "source": [
        ""
      ],
      "execution_count": null,
      "outputs": []
    }
  ]
}