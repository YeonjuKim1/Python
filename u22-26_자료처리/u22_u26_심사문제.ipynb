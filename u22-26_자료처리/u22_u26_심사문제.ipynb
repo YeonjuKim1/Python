{
  "nbformat": 4,
  "nbformat_minor": 0,
  "metadata": {
    "colab": {
      "name": "u22_u26_심사문제.ipynb",
      "provenance": [],
      "collapsed_sections": []
    },
    "kernelspec": {
      "name": "python3",
      "display_name": "Python 3"
    },
    "language_info": {
      "name": "python"
    }
  },
  "cells": [
    {
      "cell_type": "markdown",
      "metadata": {
        "id": "kj8o7dWK9gwl"
      },
      "source": [
        "# Unit 22. 심사문제\n",
        "표준 입력으로 정수 두 개가 입력됩니다(첫 번째 입력 값의 범위는 1-20, 두 번째 입력 값의 범위는 10-30이며 첫 번째 입력 값은 두 번째 입력 값보다 항상 작습니다). 첫 번째 정수부터 두 번째 정수까지를 지수로 하는 2의 거듭제곱 리스트를 출력하는 프로그램을 만드세요(input에서 안내 문자열은 출력하지 않아야 합니다). 단, 리스트의 두 번째 요소와 뒤에서 두 번째 요소는 삭제한 뒤 출력하세요. 출력 결과는 리스트 형태라야 합니다."
      ]
    },
    {
      "cell_type": "code",
      "metadata": {
        "id": "onYd39yY3Qo3",
        "colab": {
          "base_uri": "https://localhost:8080/"
        },
        "outputId": "bf7586b1-d004-431a-905a-bf68a8e7db29"
      },
      "source": [
        "a, b = map(int, input().split())\n",
        "x = [2**i for i in range(a, b+1)]\n",
        "x.pop(1)\n",
        "x.pop(-2)\n",
        "print(x)"
      ],
      "execution_count": null,
      "outputs": [
        {
          "output_type": "stream",
          "text": [
            "10 20\n",
            "[1024, 4096, 8192, 16384, 32768, 65536, 131072, 262144, 1048576]\n"
          ],
          "name": "stdout"
        }
      ]
    },
    {
      "cell_type": "code",
      "metadata": {
        "colab": {
          "base_uri": "https://localhost:8080/"
        },
        "id": "pJWVaxZ0VQRF",
        "outputId": "5d218fd5-3faf-4539-f06a-31fdf462864a"
      },
      "source": [
        "#강사님\n",
        "a, b = map(int, input().split())\n",
        "square = [2 ** i for i in range(a, b+1)]\n",
        "del square[-2]\n",
        "del square[1]\n",
        "square "
      ],
      "execution_count": 1,
      "outputs": [
        {
          "output_type": "stream",
          "text": [
            "10 20\n"
          ],
          "name": "stdout"
        },
        {
          "output_type": "execute_result",
          "data": {
            "text/plain": [
              "[1024, 4096, 8192, 16384, 32768, 65536, 131072, 262144, 1048576]"
            ]
          },
          "metadata": {
            "tags": []
          },
          "execution_count": 1
        }
      ]
    },
    {
      "cell_type": "markdown",
      "metadata": {
        "id": "8bK87ldPwZ_r"
      },
      "source": [
        "# Unit 23. 심사문제\n",
        "표준 입력으로 2차원 리스트의 가로(col)와 세로(row)가 입력되고 그 다음 줄부터 리스트의 요소로 들어갈 문자가 입력됩니다. 이때 2차원 리스트 안에서 *는 지뢰이고 .은 지뢰가 아닙니다. 지뢰가 아닌 요소에는 인접한 지뢰의 개수를 출력하는 프로그램을 만드세요(input에서 안내 문자열은 출력하지 않아야 합니다).\n",
        "\n",
        "여러 줄을 입력 받으려면 다음과 같이 for 반복문에서 input을 호출한 뒤 append로 각 줄을 추가하면 됩니다(list 안에 문자열을 넣으면 문자열이 문자 리스트로 변환됩니다)."
      ]
    },
    {
      "cell_type": "code",
      "metadata": {
        "id": "Ymhsz0lBA1AJ",
        "colab": {
          "base_uri": "https://localhost:8080/"
        },
        "outputId": "0e603c3e-1381-4f00-8f7f-b2d283f155ee"
      },
      "source": [
        "row, col = map(int, input().split())\n",
        "matrix = []\n",
        "for i in range(row):\n",
        "    matrix.append(list(input()))\n",
        "print()\n",
        "for i in range(row):\n",
        "    for k in range(col):\n",
        "        cnt = 0\n",
        "        if matrix[i][k] == '.':\n",
        "            for y in range(i-1, i+2):\n",
        "                for x in range(k-1, k+2):\n",
        "                    if not (y < 0 or x < 0 or y >= row or x >= col):\n",
        "                        if matrix[y][x] == '*':\n",
        "                            cnt += 1\n",
        "            matrix[i][k] = cnt\n",
        "            print(matrix[i][k], end='')\n",
        "        else:\n",
        "            print(matrix[i][k], end='')\n",
        "    print()\n"
      ],
      "execution_count": null,
      "outputs": [
        {
          "output_type": "stream",
          "text": [
            "3 3\n",
            ".**\n",
            "*..\n",
            ".*.\n",
            "\n",
            "2**\n",
            "*43\n",
            "2*1\n"
          ],
          "name": "stdout"
        }
      ]
    },
    {
      "cell_type": "code",
      "metadata": {
        "id": "paR9GdgOLG7O"
      },
      "source": [
        "#강사님\n",
        "import random\n",
        "mines = []\n",
        "N = 9\n",
        "for _ in range(N):\n",
        "    row = ''\n",
        "    for _ in range(N):\n",
        "        if random.random() > 0.6:\n",
        "            row += '*'\n",
        "        else:\n",
        "            row += '.'\n",
        "    mines.append(row)"
      ],
      "execution_count": 1,
      "outputs": []
    },
    {
      "cell_type": "code",
      "metadata": {
        "colab": {
          "base_uri": "https://localhost:8080/"
        },
        "id": "Y6mqajXjWnmQ",
        "outputId": "e5e33029-baaf-47cd-9d8c-fabe61b7fa04"
      },
      "source": [
        "#강사님\n",
        "mines = [['*' if random.random()>0.6 else '.' for _ in range(N)] for _ in range(N)]\n",
        "for i in range(len(mines)):\n",
        "    for k in range(len(mines)):\n",
        "        print(mines[i][k], end=' ')\n",
        "    print()"
      ],
      "execution_count": 2,
      "outputs": [
        {
          "output_type": "stream",
          "text": [
            ". . . . * * . . . \n",
            "* * . * . . * * * \n",
            ". . . * * . * * . \n",
            "* . . . * . * . . \n",
            ". . . * * . * * . \n",
            ". . * * . * * . . \n",
            ". . . * * . * . . \n",
            ". . . * . * * . * \n",
            ". . * . * * * . . \n"
          ],
          "name": "stdout"
        }
      ]
    },
    {
      "cell_type": "code",
      "metadata": {
        "colab": {
          "base_uri": "https://localhost:8080/"
        },
        "id": "nsiYzBn8W_Hj",
        "outputId": "475333f8-4d86-47e0-d2aa-bec65a303010"
      },
      "source": [
        "#강사님_함수로\n",
        "def print_mines(mat):\n",
        "    for i in range(len(mat)):\n",
        "        for k in range(len(mat)):\n",
        "            print(mat[i][k], end=' ')\n",
        "        print()\n",
        "\n",
        "print_mines(mines)"
      ],
      "execution_count": 3,
      "outputs": [
        {
          "output_type": "stream",
          "text": [
            ". . . . * * . . . \n",
            "* * . * . . * * * \n",
            ". . . * * . * * . \n",
            "* . . . * . * . . \n",
            ". . . * * . * * . \n",
            ". . * * . * * . . \n",
            ". . . * * . * . . \n",
            ". . . * . * * . * \n",
            ". . * . * * * . . \n"
          ],
          "name": "stdout"
        }
      ]
    },
    {
      "cell_type": "code",
      "metadata": {
        "colab": {
          "base_uri": "https://localhost:8080/"
        },
        "id": "nypbgKKFXSGo",
        "outputId": "f5b0fde7-9592-4b67-80ba-7cea0cce6dda"
      },
      "source": [
        "pad_mines = []\n",
        "pad_mines.append('.' * (N+2))\n",
        "for i in range(N):\n",
        "    row = '.'\n",
        "    for k in range(N):\n",
        "        row += mines[i][k]\n",
        "    row += '.'\n",
        "    pad_mines.append(row)\n",
        "pad_mines.append('.' * (N+2))\n",
        "\n",
        "print_mines(pad_mines)"
      ],
      "execution_count": 4,
      "outputs": [
        {
          "output_type": "stream",
          "text": [
            ". . . . . . . . . . . \n",
            ". . . . . * * . . . . \n",
            ". * * . * . . * * * . \n",
            ". . . . * * . * * . . \n",
            ". * . . . * . * . . . \n",
            ". . . . * * . * * . . \n",
            ". . . * * . * * . . . \n",
            ". . . . * * . * . . . \n",
            ". . . . * . * * . * . \n",
            ". . . * . * * * . . . \n",
            ". . . . . . . . . . . \n"
          ],
          "name": "stdout"
        }
      ]
    },
    {
      "cell_type": "code",
      "metadata": {
        "colab": {
          "base_uri": "https://localhost:8080/"
        },
        "id": "6zG92dJ8Y1rA",
        "outputId": "96beaa5a-9964-497d-858e-54dd62afe319"
      },
      "source": [
        "final_mines = []\n",
        "for i in range(1, N+1):\n",
        "    row = ''\n",
        "    for k in range(1, N+1):\n",
        "        if pad_mines[i][k] == '*':\n",
        "            row += '*'\n",
        "        else:\n",
        "            count = (pad_mines[i-1][k-1]=='*') + (pad_mines[i-1][k]=='*') + \\\n",
        "                    (pad_mines[i-1][k+1]=='*') + (pad_mines[i][k-1]=='*') + \\\n",
        "                    (pad_mines[i][k+1]=='*') + (pad_mines[i+1][k-1]=='*') + \\\n",
        "                    (pad_mines[i+1][k]=='*') + (pad_mines[i+1][k+1]=='*')\n",
        "            row += str(count)\n",
        "    final_mines.append(row)\n",
        "\n",
        "print_mines(final_mines)"
      ],
      "execution_count": 5,
      "outputs": [
        {
          "output_type": "stream",
          "text": [
            "2 2 2 2 * * 3 3 2 \n",
            "* * 3 * 5 5 * * * \n",
            "3 3 3 * * 5 * * 3 \n",
            "* 1 2 5 * 6 * 5 2 \n",
            "1 2 3 * * 6 * * 1 \n",
            "0 1 * * 6 * * 4 1 \n",
            "0 1 4 * * 6 * 4 1 \n",
            "0 1 3 * 6 * * 4 * \n",
            "0 1 * 3 * * * 3 1 \n"
          ],
          "name": "stdout"
        }
      ]
    },
    {
      "cell_type": "markdown",
      "metadata": {
        "id": "mf-YBOE59tyC"
      },
      "source": [
        "#Unit 24. 심사문제1\n",
        "표준 입력으로 문자열이 입력됩니다. 입력된 문자열에서 'the'의 개수를 출력하는 프로그램을 만드세요(input에서 안내 문자열은 출력하지 않아야 합니다). 단, 모든 문자가 소문자인 'the'만 찾으면 되며 'them', 'there', 'their' 등은 포함하지 않아야 합니다."
      ]
    },
    {
      "cell_type": "code",
      "metadata": {
        "colab": {
          "base_uri": "https://localhost:8080/"
        },
        "id": "cMU9nhot9z5b",
        "outputId": "86b80d6b-a0c6-4435-f3a2-a8816a51ef19"
      },
      "source": [
        "f = input().split(' ')\n",
        "cnt = 0\n",
        "for i in f:\n",
        "  if i.strip(',.') == 'the':\n",
        "    cnt += 1\n",
        "print(cnt)"
      ],
      "execution_count": null,
      "outputs": [
        {
          "output_type": "stream",
          "text": [
            "the grown-ups' response, this time, was to advise me to lay aside my drawings of boa constrictors, whether from the inside or the outside, and devote myself instead to geography, history, arithmetic, and grammar. That is why, at the, age of six, I gave up what might have been a magnificent career as a painter. I had been disheartened by the failure of my Drawing Number One and my Drawing Number Two. Grown-ups never understand anything by themselves, and it is tiresome for children to be always and forever explaining things to the.\n",
            "6\n"
          ],
          "name": "stdout"
        }
      ]
    },
    {
      "cell_type": "code",
      "metadata": {
        "colab": {
          "base_uri": "https://localhost:8080/"
        },
        "id": "YMhDR-TfLig7",
        "outputId": "2a396db7-eadf-422f-f442-43e3b1f0c0ae"
      },
      "source": [
        "#강사님\n",
        "text = \"\"\"\n",
        "the grown-ups' response, this time, was to advise me to lay aside my drawings of boa constrictors, \n",
        "whether from the inside or the outside, and devote myself instead to geography, history, arithmetic, \n",
        "and grammar. That is why, at the, age of six, I gave up what might have been a magnificent career \n",
        "as a painter. I had been disheartened by the failure of my Drawing Number One and my Drawing Number Two. \n",
        "Grown-ups never understand anything by themselves, and it is tiresome for children to be always and \n",
        "forever explaining things to the.\n",
        "\"\"\"\n",
        "text.count('the')"
      ],
      "execution_count": 7,
      "outputs": [
        {
          "output_type": "execute_result",
          "data": {
            "text/plain": [
              "8"
            ]
          },
          "metadata": {
            "tags": []
          },
          "execution_count": 7
        }
      ]
    },
    {
      "cell_type": "code",
      "metadata": {
        "colab": {
          "base_uri": "https://localhost:8080/",
          "height": 72
        },
        "id": "w0SbLvaVLdTb",
        "outputId": "6ab851bc-b710-4719-b49f-73555d70196d"
      },
      "source": [
        "#강사님\n",
        "import re\n",
        "text = re.sub('[\\'-.,\\n]', '', text)\n",
        "text"
      ],
      "execution_count": 8,
      "outputs": [
        {
          "output_type": "execute_result",
          "data": {
            "application/vnd.google.colaboratory.intrinsic+json": {
              "type": "string"
            },
            "text/plain": [
              "'the grownups response this time was to advise me to lay aside my drawings of boa constrictors whether from the inside or the outside and devote myself instead to geography history arithmetic and grammar That is why at the age of six I gave up what might have been a magnificent career as a painter I had been disheartened by the failure of my Drawing Number One and my Drawing Number Two Grownups never understand anything by themselves and it is tiresome for children to be always and forever explaining things to the'"
            ]
          },
          "metadata": {
            "tags": []
          },
          "execution_count": 8
        }
      ]
    },
    {
      "cell_type": "code",
      "metadata": {
        "colab": {
          "base_uri": "https://localhost:8080/",
          "height": 72
        },
        "id": "eX-DX9dVLnSb",
        "outputId": "73e584d1-6066-4576-9a8b-89163a2e76e2"
      },
      "source": [
        "text = re.sub('[^A-Za-z ]', '', text)\n",
        "text"
      ],
      "execution_count": 9,
      "outputs": [
        {
          "output_type": "execute_result",
          "data": {
            "application/vnd.google.colaboratory.intrinsic+json": {
              "type": "string"
            },
            "text/plain": [
              "'the grownups response this time was to advise me to lay aside my drawings of boa constrictors whether from the inside or the outside and devote myself instead to geography history arithmetic and grammar That is why at the age of six I gave up what might have been a magnificent career as a painter I had been disheartened by the failure of my Drawing Number One and my Drawing Number Two Grownups never understand anything by themselves and it is tiresome for children to be always and forever explaining things to the'"
            ]
          },
          "metadata": {
            "tags": []
          },
          "execution_count": 9
        }
      ]
    },
    {
      "cell_type": "code",
      "metadata": {
        "colab": {
          "base_uri": "https://localhost:8080/"
        },
        "id": "bi8kg8UTLqJt",
        "outputId": "28b8b572-24a5-47ad-af15-6f946059d0bf"
      },
      "source": [
        "text_list = text.lower().strip().split()\n",
        "count = 0\n",
        "for word in text_list:\n",
        "    if word == 'the':\n",
        "        count += 1\n",
        "count"
      ],
      "execution_count": 10,
      "outputs": [
        {
          "output_type": "execute_result",
          "data": {
            "text/plain": [
              "6"
            ]
          },
          "metadata": {
            "tags": []
          },
          "execution_count": 10
        }
      ]
    },
    {
      "cell_type": "markdown",
      "metadata": {
        "id": "A9T815TOBXhh"
      },
      "source": [
        "#Unit 24. 심사문제2\n",
        "표준 입력으로 물품 가격 여러 개가 문자열 한 줄로 입력되고, 각 가격은 ;(세미콜론)으로 구분되어 있습니다. 입력된 가격을 높은 가격순으로 출력하는 프로그램을 만드세요(input에서 안내 문자열은 출력하지 않아야 합니다). 이때 가격은 길이를 9로 만든 뒤 오른쪽으로 정렬하고 천단위로 ,(콤마)를 넣으세요."
      ]
    },
    {
      "cell_type": "code",
      "metadata": {
        "colab": {
          "base_uri": "https://localhost:8080/"
        },
        "id": "afLua3Mo-5Ea",
        "outputId": "6c291d6f-a214-48e8-e32e-a4295c56f61e"
      },
      "source": [
        "price = map(int, input().split(';'))\n",
        "prices = []\n",
        "for i in price:\n",
        "  prices.append(i)\n",
        "prices.sort(reverse=True)\n",
        "for k in prices:\n",
        "  print('{0:>9,}'.format(k))"
      ],
      "execution_count": null,
      "outputs": [
        {
          "output_type": "stream",
          "text": [
            "51900;83000;158000;367500;250000;59200;128500;1304000\n",
            "1,304,000\n",
            "  367,500\n",
            "  250,000\n",
            "  158,000\n",
            "  128,500\n",
            "   83,000\n",
            "   59,200\n",
            "   51,900\n"
          ],
          "name": "stdout"
        }
      ]
    },
    {
      "cell_type": "code",
      "metadata": {
        "colab": {
          "base_uri": "https://localhost:8080/"
        },
        "id": "xuzcD1GBLumT",
        "outputId": "66ed2f1e-c8d1-4106-cae8-418f8086aaed"
      },
      "source": [
        "#강사님\n",
        "input_str = '51900;83000;158000;367500;250000;59200;128500;1304000'\n",
        "price_list = list(map(int, input_str.split(';')))\n",
        "price_list"
      ],
      "execution_count": 11,
      "outputs": [
        {
          "output_type": "execute_result",
          "data": {
            "text/plain": [
              "[51900, 83000, 158000, 367500, 250000, 59200, 128500, 1304000]"
            ]
          },
          "metadata": {
            "tags": []
          },
          "execution_count": 11
        }
      ]
    },
    {
      "cell_type": "code",
      "metadata": {
        "colab": {
          "base_uri": "https://localhost:8080/"
        },
        "id": "UHrkQTzgLxgU",
        "outputId": "71583fb2-a685-4037-c58a-c4987f95053a"
      },
      "source": [
        "price_list.sort(reverse=True)\n",
        "price_list"
      ],
      "execution_count": 12,
      "outputs": [
        {
          "output_type": "execute_result",
          "data": {
            "text/plain": [
              "[1304000, 367500, 250000, 158000, 128500, 83000, 59200, 51900]"
            ]
          },
          "metadata": {
            "tags": []
          },
          "execution_count": 12
        }
      ]
    },
    {
      "cell_type": "code",
      "metadata": {
        "colab": {
          "base_uri": "https://localhost:8080/"
        },
        "id": "vwAI2qsULzsb",
        "outputId": "9af2006e-a702-4e3c-c178-de390971cecb"
      },
      "source": [
        "for price in price_list:\n",
        "    print(f'{price:9,d}')"
      ],
      "execution_count": 13,
      "outputs": [
        {
          "output_type": "stream",
          "text": [
            "1,304,000\n",
            "  367,500\n",
            "  250,000\n",
            "  158,000\n",
            "  128,500\n",
            "   83,000\n",
            "   59,200\n",
            "   51,900\n"
          ],
          "name": "stdout"
        }
      ]
    },
    {
      "cell_type": "markdown",
      "metadata": {
        "id": "CQOnslmrpuZ-"
      },
      "source": [
        "#Unit 25. 심사문제\n",
        "표준 입력으로 문자열 여러 개와 숫자 여러 개가 두 줄로 입력되고, 첫 번째 줄은 키, 두 번째 줄은 값으로 하여 딕셔너리를 생성합니다. 다음 코드를 완성하여 딕셔너리에서 키가 'delta'인 키-값 쌍과 값이 30인 키-값 쌍을 삭제하도록 만드세요."
      ]
    },
    {
      "cell_type": "code",
      "metadata": {
        "colab": {
          "base_uri": "https://localhost:8080/"
        },
        "id": "eCFP3C5cB0qJ",
        "outputId": "d591d7dc-f237-493c-9ddc-f306fdd53ec2"
      },
      "source": [
        "keys = input().split()\n",
        "values = map(int, input().split())\n",
        " \n",
        "x = dict(zip(keys, values))\n",
        "x = {key: value for key, value in x.items() if key != 'delta' and value !=30}\n",
        "\n",
        "print(x)"
      ],
      "execution_count": null,
      "outputs": [
        {
          "output_type": "stream",
          "text": [
            "alpha bravo charlie delta echo foxtrot golf\n",
            "30 40 50 60 70 80 90\n",
            "{'bravo': 40, 'charlie': 50, 'echo': 70, 'foxtrot': 80, 'golf': 90}\n"
          ],
          "name": "stdout"
        }
      ]
    },
    {
      "cell_type": "code",
      "metadata": {
        "colab": {
          "base_uri": "https://localhost:8080/"
        },
        "id": "sUw_uLiaL6rr",
        "outputId": "7a00bfd9-0a00-41ff-ed31-c74acdcac2da"
      },
      "source": [
        "#강사님\n",
        "# alpha bravo charlie delta\n",
        "# 10 20 30 40\n",
        "keys = input().split()\n",
        "values = map(int, input().split())\n",
        "x = dict(zip(keys, values))\n",
        "x"
      ],
      "execution_count": 14,
      "outputs": [
        {
          "output_type": "stream",
          "text": [
            "alpha bravo charlie delta\n",
            "10 20 30 40\n"
          ],
          "name": "stdout"
        },
        {
          "output_type": "execute_result",
          "data": {
            "text/plain": [
              "{'alpha': 10, 'bravo': 20, 'charlie': 30, 'delta': 40}"
            ]
          },
          "metadata": {
            "tags": []
          },
          "execution_count": 14
        }
      ]
    },
    {
      "cell_type": "code",
      "metadata": {
        "colab": {
          "base_uri": "https://localhost:8080/"
        },
        "id": "g57ODI6qMBtD",
        "outputId": "dfab8f4f-a880-4165-84f4-18d395b7754b"
      },
      "source": [
        "del x['delta']\n",
        "x"
      ],
      "execution_count": 15,
      "outputs": [
        {
          "output_type": "execute_result",
          "data": {
            "text/plain": [
              "{'alpha': 10, 'bravo': 20, 'charlie': 30}"
            ]
          },
          "metadata": {
            "tags": []
          },
          "execution_count": 15
        }
      ]
    },
    {
      "cell_type": "code",
      "metadata": {
        "colab": {
          "base_uri": "https://localhost:8080/"
        },
        "id": "WBI5mc1OMEXD",
        "outputId": "0aee59b4-df84-4279-db85-39a338549910"
      },
      "source": [
        "for key, value in x.items():\n",
        "    if value==30:\n",
        "        break\n",
        "\n",
        "x.pop(key)      # del x[key]\n",
        "x"
      ],
      "execution_count": 16,
      "outputs": [
        {
          "output_type": "execute_result",
          "data": {
            "text/plain": [
              "{'alpha': 10, 'bravo': 20}"
            ]
          },
          "metadata": {
            "tags": []
          },
          "execution_count": 16
        }
      ]
    },
    {
      "cell_type": "markdown",
      "metadata": {
        "id": "rJSDxjwhMFZs"
      },
      "source": [
        "#Unit 26. 심사문제\n",
        "표준 입력으로 양의 정수 두 개가 입력됩니다. 다음 소스 코드를 완성하여 두 숫자의 공약수를 세트 형태로 구하도록 만드세요. 단, 최종 결과는 공약수의 합으로 판단합니다."
      ]
    },
    {
      "cell_type": "code",
      "metadata": {
        "colab": {
          "base_uri": "https://localhost:8080/"
        },
        "id": "g6T4sUJ_qHMN",
        "outputId": "1796d344-49d1-44ed-f1d1-6f327f19825c"
      },
      "source": [
        "x, y = map(int, input().split())\n",
        "\n",
        "a = {i for i in range(1, x+1) if x % i == 0}\n",
        "b = {i for i in range(1, y+1) if y % i == 0}\n",
        "\n",
        "divisor = a & b\n",
        " \n",
        "result = 0\n",
        "if type(divisor) == set:\n",
        "    result = sum(divisor)\n",
        " \n",
        "print(result)"
      ],
      "execution_count": null,
      "outputs": [
        {
          "output_type": "stream",
          "text": [
            "100 200\n",
            "217\n"
          ],
          "name": "stdout"
        }
      ]
    },
    {
      "cell_type": "code",
      "metadata": {
        "colab": {
          "base_uri": "https://localhost:8080/"
        },
        "id": "AwoRgKDwMIPy",
        "outputId": "ef4468b0-3a5f-4e82-b211-3070eb3f77a5"
      },
      "source": [
        "#강사님\n",
        "div_list = []\n",
        "x = 10\n",
        "for i in range(1,x+1):\n",
        "    if x % i == 0:\n",
        "        div_list.append(i)\n",
        "set(div_list)"
      ],
      "execution_count": 17,
      "outputs": [
        {
          "output_type": "execute_result",
          "data": {
            "text/plain": [
              "{1, 2, 5, 10}"
            ]
          },
          "metadata": {
            "tags": []
          },
          "execution_count": 17
        }
      ]
    },
    {
      "cell_type": "code",
      "metadata": {
        "id": "XLbDu5YDNCGA",
        "colab": {
          "base_uri": "https://localhost:8080/"
        },
        "outputId": "fc325ef3-03cb-4e69-9c1e-523295e0ccc6"
      },
      "source": [
        "x, y = map(int, input().split())\n",
        "a = set(i for i in range(1,x+1) if x%i == 0)\n",
        "b = set(i for i in range(1,y+1) if y%i == 0)\n",
        "print(a, b)\n",
        "divisor = a & b\n",
        " \n",
        "result = 0\n",
        "if type(divisor) == set:\n",
        "    result = sum(divisor)\n",
        " \n",
        "print(result)"
      ],
      "execution_count": 18,
      "outputs": [
        {
          "output_type": "stream",
          "text": [
            "10 20\n",
            "{1, 2, 10, 5} {1, 2, 4, 5, 10, 20}\n",
            "18\n"
          ],
          "name": "stdout"
        }
      ]
    },
    {
      "cell_type": "code",
      "metadata": {
        "id": "fACrIMyvMNQc"
      },
      "source": [
        ""
      ],
      "execution_count": null,
      "outputs": []
    }
  ]
}