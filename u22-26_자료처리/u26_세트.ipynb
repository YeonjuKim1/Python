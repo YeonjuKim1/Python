{
  "nbformat": 4,
  "nbformat_minor": 0,
  "metadata": {
    "colab": {
      "name": "u26_세트.ipynb",
      "provenance": [],
      "collapsed_sections": []
    },
    "kernelspec": {
      "name": "python3",
      "display_name": "Python 3"
    },
    "language_info": {
      "name": "python"
    }
  },
  "cells": [
    {
      "cell_type": "markdown",
      "metadata": {
        "id": "Z3xYaHaG3nKi"
      },
      "source": [
        "# Unit 26. 세트(집합)"
      ]
    },
    {
      "cell_type": "markdown",
      "metadata": {
        "id": "sFX7pUeZ5cM6"
      },
      "source": [
        "## 26.1 생성"
      ]
    },
    {
      "cell_type": "code",
      "metadata": {
        "colab": {
          "base_uri": "https://localhost:8080/"
        },
        "id": "cYwBLG5o3mTJ",
        "outputId": "0e342cd3-d035-4a92-c6f7-cd07d7f9376e"
      },
      "source": [
        "fruits = {'apple', 'banana', 'cherry', 'orange', 'grape'}\n",
        "fruits"
      ],
      "execution_count": 2,
      "outputs": [
        {
          "output_type": "execute_result",
          "data": {
            "text/plain": [
              "{'apple', 'banana', 'cherry', 'grape', 'orange'}"
            ]
          },
          "metadata": {
            "tags": []
          },
          "execution_count": 2
        }
      ]
    },
    {
      "cell_type": "code",
      "metadata": {
        "colab": {
          "base_uri": "https://localhost:8080/"
        },
        "id": "FhLnnRDt4E6-",
        "outputId": "bc66e44c-a845-4c7a-9442-451591a65398"
      },
      "source": [
        "type(fruits)"
      ],
      "execution_count": 3,
      "outputs": [
        {
          "output_type": "execute_result",
          "data": {
            "text/plain": [
              "set"
            ]
          },
          "metadata": {
            "tags": []
          },
          "execution_count": 3
        }
      ]
    },
    {
      "cell_type": "code",
      "metadata": {
        "colab": {
          "base_uri": "https://localhost:8080/"
        },
        "id": "LaT0W5Hd44hw",
        "outputId": "a39e18ac-2888-45d3-d410-436951cd7380"
      },
      "source": [
        "fruits = {'apple', 'banana', 'cherry', 'orange', 'grape', 'apple'}\n",
        "fruits"
      ],
      "execution_count": 4,
      "outputs": [
        {
          "output_type": "execute_result",
          "data": {
            "text/plain": [
              "{'apple', 'banana', 'cherry', 'grape', 'orange'}"
            ]
          },
          "metadata": {
            "tags": []
          },
          "execution_count": 4
        }
      ]
    },
    {
      "cell_type": "code",
      "metadata": {
        "colab": {
          "base_uri": "https://localhost:8080/"
        },
        "id": "2RQpC1jk4-81",
        "outputId": "2c356ff4-3674-493e-8657-da6ec9304258"
      },
      "source": [
        "'peach' not in fruits"
      ],
      "execution_count": 6,
      "outputs": [
        {
          "output_type": "execute_result",
          "data": {
            "text/plain": [
              "True"
            ]
          },
          "metadata": {
            "tags": []
          },
          "execution_count": 6
        }
      ]
    },
    {
      "cell_type": "code",
      "metadata": {
        "colab": {
          "base_uri": "https://localhost:8080/"
        },
        "id": "2w4s2Zjj5BU-",
        "outputId": "b51cf19a-8bea-4d0c-ca6a-bdb7a4e5a570"
      },
      "source": [
        "'orange' in fruits"
      ],
      "execution_count": 7,
      "outputs": [
        {
          "output_type": "execute_result",
          "data": {
            "text/plain": [
              "True"
            ]
          },
          "metadata": {
            "tags": []
          },
          "execution_count": 7
        }
      ]
    },
    {
      "cell_type": "code",
      "metadata": {
        "colab": {
          "base_uri": "https://localhost:8080/"
        },
        "id": "2AkueCaj5FI1",
        "outputId": "baae3c77-384b-40e8-81f4-c52a9f92f7fa"
      },
      "source": [
        "a = set('apple')\n",
        "a"
      ],
      "execution_count": 8,
      "outputs": [
        {
          "output_type": "execute_result",
          "data": {
            "text/plain": [
              "{'a', 'e', 'l', 'p'}"
            ]
          },
          "metadata": {
            "tags": []
          },
          "execution_count": 8
        }
      ]
    },
    {
      "cell_type": "code",
      "metadata": {
        "colab": {
          "base_uri": "https://localhost:8080/"
        },
        "id": "_ov6oanz5HYo",
        "outputId": "4b635813-beed-4000-8311-56aadfd45bdf"
      },
      "source": [
        "set('안녕하세요?')"
      ],
      "execution_count": 9,
      "outputs": [
        {
          "output_type": "execute_result",
          "data": {
            "text/plain": [
              "{'?', '녕', '세', '안', '요', '하'}"
            ]
          },
          "metadata": {
            "tags": []
          },
          "execution_count": 9
        }
      ]
    },
    {
      "cell_type": "markdown",
      "metadata": {
        "id": "iyfuZ0TZ5fPR"
      },
      "source": [
        "## 26.2 연산"
      ]
    },
    {
      "cell_type": "code",
      "metadata": {
        "colab": {
          "base_uri": "https://localhost:8080/"
        },
        "id": "s7F4MsYh5ZP0",
        "outputId": "d5146a41-2a4a-463f-a788-0f9170ddbccc"
      },
      "source": [
        "a = set(range(4))\n",
        "b = set(range(2,6))\n",
        "a,b"
      ],
      "execution_count": 10,
      "outputs": [
        {
          "output_type": "execute_result",
          "data": {
            "text/plain": [
              "({0, 1, 2, 3}, {2, 3, 4, 5})"
            ]
          },
          "metadata": {
            "tags": []
          },
          "execution_count": 10
        }
      ]
    },
    {
      "cell_type": "code",
      "metadata": {
        "colab": {
          "base_uri": "https://localhost:8080/"
        },
        "id": "Vl1GyKTB5vDr",
        "outputId": "19e7318b-949a-4ab6-858d-a5ab827d9fc4"
      },
      "source": [
        "# 합집합(union)\n",
        "a | b"
      ],
      "execution_count": 11,
      "outputs": [
        {
          "output_type": "execute_result",
          "data": {
            "text/plain": [
              "{0, 1, 2, 3, 4, 5}"
            ]
          },
          "metadata": {
            "tags": []
          },
          "execution_count": 11
        }
      ]
    },
    {
      "cell_type": "code",
      "metadata": {
        "colab": {
          "base_uri": "https://localhost:8080/"
        },
        "id": "_jKWI0zL58d2",
        "outputId": "25dded58-37a3-46a6-808f-5724dd2dd933"
      },
      "source": [
        "set.union(a,b)"
      ],
      "execution_count": 12,
      "outputs": [
        {
          "output_type": "execute_result",
          "data": {
            "text/plain": [
              "{0, 1, 2, 3, 4, 5}"
            ]
          },
          "metadata": {
            "tags": []
          },
          "execution_count": 12
        }
      ]
    },
    {
      "cell_type": "code",
      "metadata": {
        "colab": {
          "base_uri": "https://localhost:8080/"
        },
        "id": "mlErgUar6O6n",
        "outputId": "4fc6e787-550b-4edf-def4-00b56bdcf269"
      },
      "source": [
        "# 교집합(intersection)\n",
        "a & b"
      ],
      "execution_count": 13,
      "outputs": [
        {
          "output_type": "execute_result",
          "data": {
            "text/plain": [
              "{2, 3}"
            ]
          },
          "metadata": {
            "tags": []
          },
          "execution_count": 13
        }
      ]
    },
    {
      "cell_type": "code",
      "metadata": {
        "colab": {
          "base_uri": "https://localhost:8080/"
        },
        "id": "4nWYZ7u46Tmh",
        "outputId": "8286c99d-cb20-4fc7-bea9-0abc57728725"
      },
      "source": [
        "set.intersection(a,b)"
      ],
      "execution_count": 14,
      "outputs": [
        {
          "output_type": "execute_result",
          "data": {
            "text/plain": [
              "{2, 3}"
            ]
          },
          "metadata": {
            "tags": []
          },
          "execution_count": 14
        }
      ]
    },
    {
      "cell_type": "code",
      "metadata": {
        "colab": {
          "base_uri": "https://localhost:8080/"
        },
        "id": "2J8ZI6jh6XzP",
        "outputId": "0c12f8c4-e8ef-4129-e067-e5511a794d99"
      },
      "source": [
        "# 차집합\n",
        "a - b"
      ],
      "execution_count": 15,
      "outputs": [
        {
          "output_type": "execute_result",
          "data": {
            "text/plain": [
              "{0, 1}"
            ]
          },
          "metadata": {
            "tags": []
          },
          "execution_count": 15
        }
      ]
    },
    {
      "cell_type": "code",
      "metadata": {
        "colab": {
          "base_uri": "https://localhost:8080/"
        },
        "id": "95jnw0AY6vQG",
        "outputId": "ceaf3ccc-746a-4a73-b8cf-73ed4f10540b"
      },
      "source": [
        "set.difference(a,b)"
      ],
      "execution_count": 16,
      "outputs": [
        {
          "output_type": "execute_result",
          "data": {
            "text/plain": [
              "{0, 1}"
            ]
          },
          "metadata": {
            "tags": []
          },
          "execution_count": 16
        }
      ]
    },
    {
      "cell_type": "code",
      "metadata": {
        "colab": {
          "base_uri": "https://localhost:8080/"
        },
        "id": "sgKgOe7D6xGr",
        "outputId": "a353e85b-9c1b-4812-de09-2810157bbbb4"
      },
      "source": [
        "# 대칭차집합(symmetric difference)\n",
        "a ^ b"
      ],
      "execution_count": 17,
      "outputs": [
        {
          "output_type": "execute_result",
          "data": {
            "text/plain": [
              "{0, 1, 4, 5}"
            ]
          },
          "metadata": {
            "tags": []
          },
          "execution_count": 17
        }
      ]
    },
    {
      "cell_type": "code",
      "metadata": {
        "colab": {
          "base_uri": "https://localhost:8080/"
        },
        "id": "0D7MSDc962fi",
        "outputId": "ef6137d5-388d-46b4-b56a-3517af4946bc"
      },
      "source": [
        "set.symmetric_difference(a,b)"
      ],
      "execution_count": 18,
      "outputs": [
        {
          "output_type": "execute_result",
          "data": {
            "text/plain": [
              "{0, 1, 4, 5}"
            ]
          },
          "metadata": {
            "tags": []
          },
          "execution_count": 18
        }
      ]
    },
    {
      "cell_type": "markdown",
      "metadata": {
        "id": "HLYiJCTf7TyB"
      },
      "source": [
        "### 부분집합, 상위집합"
      ]
    },
    {
      "cell_type": "code",
      "metadata": {
        "colab": {
          "base_uri": "https://localhost:8080/"
        },
        "id": "_Da5e8x167hw",
        "outputId": "ff9e36d1-a095-4d88-ed76-5b6237a53ef3"
      },
      "source": [
        "a <= {0,1,2,3}"
      ],
      "execution_count": 19,
      "outputs": [
        {
          "output_type": "execute_result",
          "data": {
            "text/plain": [
              "True"
            ]
          },
          "metadata": {
            "tags": []
          },
          "execution_count": 19
        }
      ]
    },
    {
      "cell_type": "code",
      "metadata": {
        "colab": {
          "base_uri": "https://localhost:8080/"
        },
        "id": "_AGKFW1V7gfi",
        "outputId": "685d5d35-4c5f-4225-95bd-541459c2c03c"
      },
      "source": [
        "a.issubset({0,1,2,3,4})"
      ],
      "execution_count": 20,
      "outputs": [
        {
          "output_type": "execute_result",
          "data": {
            "text/plain": [
              "True"
            ]
          },
          "metadata": {
            "tags": []
          },
          "execution_count": 20
        }
      ]
    },
    {
      "cell_type": "code",
      "metadata": {
        "colab": {
          "base_uri": "https://localhost:8080/"
        },
        "id": "IDKZs1yQ7qpJ",
        "outputId": "57a69d20-b066-4dab-f541-f999737ae740"
      },
      "source": [
        "a >= {1,2,3}"
      ],
      "execution_count": 21,
      "outputs": [
        {
          "output_type": "execute_result",
          "data": {
            "text/plain": [
              "True"
            ]
          },
          "metadata": {
            "tags": []
          },
          "execution_count": 21
        }
      ]
    },
    {
      "cell_type": "code",
      "metadata": {
        "colab": {
          "base_uri": "https://localhost:8080/"
        },
        "id": "iTCSHyvi7zro",
        "outputId": "94c56e41-09ca-4d0c-a873-cd4d7bd525d1"
      },
      "source": [
        "a.issuperset({1,2,3})"
      ],
      "execution_count": 22,
      "outputs": [
        {
          "output_type": "execute_result",
          "data": {
            "text/plain": [
              "True"
            ]
          },
          "metadata": {
            "tags": []
          },
          "execution_count": 22
        }
      ]
    },
    {
      "cell_type": "markdown",
      "metadata": {
        "id": "03Z7HKXt8DjT"
      },
      "source": [
        "### 값 비교"
      ]
    },
    {
      "cell_type": "code",
      "metadata": {
        "colab": {
          "base_uri": "https://localhost:8080/"
        },
        "id": "0xvSF2Vq71zg",
        "outputId": "8ad9849b-2a4f-4ff4-8c1c-a75c2bc9bc10"
      },
      "source": [
        "a == {3,1,0,2}"
      ],
      "execution_count": 23,
      "outputs": [
        {
          "output_type": "execute_result",
          "data": {
            "text/plain": [
              "True"
            ]
          },
          "metadata": {
            "tags": []
          },
          "execution_count": 23
        }
      ]
    },
    {
      "cell_type": "code",
      "metadata": {
        "colab": {
          "base_uri": "https://localhost:8080/"
        },
        "id": "pHfTqaDY8G_W",
        "outputId": "50ac87df-86f6-4faf-8612-79803d7cd9ef"
      },
      "source": [
        "a.isdisjoint(b)"
      ],
      "execution_count": 24,
      "outputs": [
        {
          "output_type": "execute_result",
          "data": {
            "text/plain": [
              "False"
            ]
          },
          "metadata": {
            "tags": []
          },
          "execution_count": 24
        }
      ]
    },
    {
      "cell_type": "code",
      "metadata": {
        "colab": {
          "base_uri": "https://localhost:8080/"
        },
        "id": "8Fpb902N8Pto",
        "outputId": "6428c9ed-a0e7-4023-a362-69ee0a0e22da"
      },
      "source": [
        "a.isdisjoint({4,5,6,7})"
      ],
      "execution_count": 25,
      "outputs": [
        {
          "output_type": "execute_result",
          "data": {
            "text/plain": [
              "True"
            ]
          },
          "metadata": {
            "tags": []
          },
          "execution_count": 25
        }
      ]
    },
    {
      "cell_type": "markdown",
      "metadata": {
        "id": "LADRsQ4D9K31"
      },
      "source": [
        "## 26.3 세트조작"
      ]
    },
    {
      "cell_type": "code",
      "metadata": {
        "colab": {
          "base_uri": "https://localhost:8080/"
        },
        "id": "xYLtmwch9Q4F",
        "outputId": "4d9d7fce-28a1-4470-e8e4-4d920d619e55"
      },
      "source": [
        "a = {0, 1, 2, 3, 4}\n",
        "a"
      ],
      "execution_count": 31,
      "outputs": [
        {
          "output_type": "execute_result",
          "data": {
            "text/plain": [
              "{0, 1, 2, 3, 4}"
            ]
          },
          "metadata": {
            "tags": []
          },
          "execution_count": 31
        }
      ]
    },
    {
      "cell_type": "code",
      "metadata": {
        "colab": {
          "base_uri": "https://localhost:8080/"
        },
        "id": "t0SvxY6g9Jmy",
        "outputId": "c33bd997-06bf-42bb-c7ac-70ae32f4a9b8"
      },
      "source": [
        "a.remove(4)\n",
        "a"
      ],
      "execution_count": 32,
      "outputs": [
        {
          "output_type": "execute_result",
          "data": {
            "text/plain": [
              "{0, 1, 2, 3}"
            ]
          },
          "metadata": {
            "tags": []
          },
          "execution_count": 32
        }
      ]
    },
    {
      "cell_type": "code",
      "metadata": {
        "colab": {
          "base_uri": "https://localhost:8080/"
        },
        "id": "d6T5iC109Ocm",
        "outputId": "3163597a-bfc8-4124-d6dc-69e906f22aed"
      },
      "source": [
        "# 임의의 원소 삭제하기\n",
        "a.pop()"
      ],
      "execution_count": 27,
      "outputs": [
        {
          "output_type": "execute_result",
          "data": {
            "text/plain": [
              "0"
            ]
          },
          "metadata": {
            "tags": []
          },
          "execution_count": 27
        }
      ]
    },
    {
      "cell_type": "code",
      "metadata": {
        "colab": {
          "base_uri": "https://localhost:8080/"
        },
        "id": "SlecC-3P9VDy",
        "outputId": "44bd14d4-ec26-4a43-84aa-30918a5e3d49"
      },
      "source": [
        "a"
      ],
      "execution_count": 28,
      "outputs": [
        {
          "output_type": "execute_result",
          "data": {
            "text/plain": [
              "{1, 2, 3}"
            ]
          },
          "metadata": {
            "tags": []
          },
          "execution_count": 28
        }
      ]
    },
    {
      "cell_type": "code",
      "metadata": {
        "colab": {
          "base_uri": "https://localhost:8080/"
        },
        "id": "FYYXihSx9WDE",
        "outputId": "7b103539-c6c6-4310-bbbb-b2fba6062c51"
      },
      "source": [
        "len(a)"
      ],
      "execution_count": 29,
      "outputs": [
        {
          "output_type": "execute_result",
          "data": {
            "text/plain": [
              "3"
            ]
          },
          "metadata": {
            "tags": []
          },
          "execution_count": 29
        }
      ]
    },
    {
      "cell_type": "markdown",
      "metadata": {
        "id": "pFe1utwd9imQ"
      },
      "source": [
        "## 26.5 반복문"
      ]
    },
    {
      "cell_type": "code",
      "metadata": {
        "colab": {
          "base_uri": "https://localhost:8080/"
        },
        "id": "TzJjO-v39XEy",
        "outputId": "8a975c90-ed1c-4973-99cf-2fac4f40f672"
      },
      "source": [
        "for element in a:\n",
        "  print(element)"
      ],
      "execution_count": 33,
      "outputs": [
        {
          "output_type": "stream",
          "text": [
            "0\n",
            "1\n",
            "2\n",
            "3\n"
          ],
          "name": "stdout"
        }
      ]
    },
    {
      "cell_type": "code",
      "metadata": {
        "id": "tAG8vW4Y9l7J"
      },
      "source": [
        ""
      ],
      "execution_count": null,
      "outputs": []
    }
  ]
}