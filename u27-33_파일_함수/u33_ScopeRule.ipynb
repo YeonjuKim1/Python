{
  "nbformat": 4,
  "nbformat_minor": 0,
  "metadata": {
    "colab": {
      "name": "u33_ScopeRule.ipynb",
      "provenance": [],
      "collapsed_sections": []
    },
    "kernelspec": {
      "name": "python3",
      "display_name": "Python 3"
    },
    "language_info": {
      "name": "python"
    }
  },
  "cells": [
    {
      "cell_type": "markdown",
      "metadata": {
        "id": "nBm7BCrrrmig"
      },
      "source": [
        "# Unit 33. 변수의 사용 범위(Scope Rule)"
      ]
    },
    {
      "cell_type": "code",
      "metadata": {
        "colab": {
          "base_uri": "https://localhost:8080/"
        },
        "id": "9pMpmBlerZSj",
        "outputId": "25d7fe75-09a1-44e4-d267-caa736426fdf"
      },
      "source": [
        "x = 10      # 전역(global) 변수\n",
        "def foo():\n",
        "  print(x)\n",
        "\n",
        "foo()\n",
        "print(x)"
      ],
      "execution_count": 3,
      "outputs": [
        {
          "output_type": "stream",
          "text": [
            "10\n",
            "10\n"
          ],
          "name": "stdout"
        }
      ]
    },
    {
      "cell_type": "code",
      "metadata": {
        "colab": {
          "base_uri": "https://localhost:8080/"
        },
        "id": "qCJ4FfOqsWUT",
        "outputId": "d7160dfd-b4b9-4004-d899-0e634f3b8ec2"
      },
      "source": [
        "def foo():\n",
        "  y = 10    # 지역(local) 변수\n",
        "  print(y)\n",
        "foo()"
      ],
      "execution_count": 4,
      "outputs": [
        {
          "output_type": "stream",
          "text": [
            "10\n"
          ],
          "name": "stdout"
        }
      ]
    },
    {
      "cell_type": "code",
      "metadata": {
        "colab": {
          "base_uri": "https://localhost:8080/",
          "height": 174
        },
        "id": "VebG-Hw7shRk",
        "outputId": "6b42f390-c484-4051-9aa9-4a7c2aec5957"
      },
      "source": [
        "print(y)"
      ],
      "execution_count": 5,
      "outputs": [
        {
          "output_type": "error",
          "ename": "NameError",
          "evalue": "ignored",
          "traceback": [
            "\u001b[0;31m---------------------------------------------------------------------------\u001b[0m",
            "\u001b[0;31mNameError\u001b[0m                                 Traceback (most recent call last)",
            "\u001b[0;32m<ipython-input-5-d9183e048de3>\u001b[0m in \u001b[0;36m<module>\u001b[0;34m()\u001b[0m\n\u001b[0;32m----> 1\u001b[0;31m \u001b[0mprint\u001b[0m\u001b[0;34m(\u001b[0m\u001b[0my\u001b[0m\u001b[0;34m)\u001b[0m\u001b[0;34m\u001b[0m\u001b[0;34m\u001b[0m\u001b[0m\n\u001b[0m",
            "\u001b[0;31mNameError\u001b[0m: name 'y' is not defined"
          ]
        }
      ]
    },
    {
      "cell_type": "markdown",
      "metadata": {
        "id": "wAnUeGmgt0Lm"
      },
      "source": [
        "### 함수 안에서 전역 변수 변경하기"
      ]
    },
    {
      "cell_type": "code",
      "metadata": {
        "colab": {
          "base_uri": "https://localhost:8080/"
        },
        "id": "NAvDF-uusjIq",
        "outputId": "413f9e80-fb33-42f5-8bdf-c89911baaf1e"
      },
      "source": [
        "# 절대 이렇게 쓰면 안 됨.ㅋㅋ\n",
        "x = 10    # 전역(global) 변수\n",
        "def foo():\n",
        "  x = 20    # 로컬 변수\n",
        "  print(x)\n",
        "\n",
        "foo()\n",
        "print(x)"
      ],
      "execution_count": 6,
      "outputs": [
        {
          "output_type": "stream",
          "text": [
            "20\n",
            "10\n"
          ],
          "name": "stdout"
        }
      ]
    },
    {
      "cell_type": "code",
      "metadata": {
        "colab": {
          "base_uri": "https://localhost:8080/"
        },
        "id": "Es-GbeUcuC5p",
        "outputId": "34bb24f4-1ab3-41de-d1c1-ed1fba33e552"
      },
      "source": [
        "x = 10    # 전역(global) 변수\n",
        "def foo():\n",
        "  global x\n",
        "  x = 20    # 글로벌 변수\n",
        "  print(x)\n",
        "foo()\n",
        "print(x)"
      ],
      "execution_count": 7,
      "outputs": [
        {
          "output_type": "stream",
          "text": [
            "20\n",
            "20\n"
          ],
          "name": "stdout"
        }
      ]
    },
    {
      "cell_type": "code",
      "metadata": {
        "colab": {
          "base_uri": "https://localhost:8080/"
        },
        "id": "oEqWPzb2vM8H",
        "outputId": "edea65c6-4414-4230-d4dc-79de836de5de"
      },
      "source": [
        "def foo():\n",
        "  global z\n",
        "  z = 10\n",
        "  print(z)\n",
        "\n",
        "foo()\n",
        "print(z)"
      ],
      "execution_count": 8,
      "outputs": [
        {
          "output_type": "stream",
          "text": [
            "10\n",
            "10\n"
          ],
          "name": "stdout"
        }
      ]
    }
  ]
}