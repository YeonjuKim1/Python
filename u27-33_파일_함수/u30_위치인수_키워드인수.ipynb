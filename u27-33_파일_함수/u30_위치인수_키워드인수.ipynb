{
  "nbformat": 4,
  "nbformat_minor": 0,
  "metadata": {
    "colab": {
      "name": "u30_위치인수_키워드인수.ipynb",
      "provenance": [],
      "collapsed_sections": []
    },
    "kernelspec": {
      "name": "python3",
      "display_name": "Python 3"
    },
    "language_info": {
      "name": "python"
    }
  },
  "cells": [
    {
      "cell_type": "markdown",
      "metadata": {
        "id": "Ky2ETXYEf8eE"
      },
      "source": [
        "# Unit 30. 위치 인수와 키워드"
      ]
    },
    {
      "cell_type": "markdown",
      "metadata": {
        "id": "z00NsApLgAps"
      },
      "source": [
        "## 30.1 위치 인수"
      ]
    },
    {
      "cell_type": "code",
      "metadata": {
        "colab": {
          "base_uri": "https://localhost:8080/"
        },
        "id": "VgnNrUHNfztz",
        "outputId": "222aa9a8-e5f3-436f-a1ed-faf1ee499ce5"
      },
      "source": [
        "print(10, 20, 30, sep=', ')"
      ],
      "execution_count": 1,
      "outputs": [
        {
          "output_type": "stream",
          "text": [
            "10, 20, 30\n"
          ],
          "name": "stdout"
        }
      ]
    },
    {
      "cell_type": "code",
      "metadata": {
        "colab": {
          "base_uri": "https://localhost:8080/"
        },
        "id": "x-U45BPggFPm",
        "outputId": "d25ad426-fc9d-4abd-85a0-ca88b99b90c5"
      },
      "source": [
        "print(10, 20, 30, 40, 50, 60, 70, 80, 90, 100)"
      ],
      "execution_count": 2,
      "outputs": [
        {
          "output_type": "stream",
          "text": [
            "10 20 30 40 50 60 70 80 90 100\n"
          ],
          "name": "stdout"
        }
      ]
    },
    {
      "cell_type": "code",
      "metadata": {
        "id": "Pt454DxsgrAC"
      },
      "source": [
        "def print_numbers(a,b,c):\n",
        "  print(a)\n",
        "  print(b)\n",
        "  print(c)"
      ],
      "execution_count": 3,
      "outputs": []
    },
    {
      "cell_type": "code",
      "metadata": {
        "colab": {
          "base_uri": "https://localhost:8080/"
        },
        "id": "O0aU_NYLhDTg",
        "outputId": "0d2febf5-58f7-46e7-8862-dc19ac9d2a04"
      },
      "source": [
        "print_numbers(10, 20, 30)"
      ],
      "execution_count": 4,
      "outputs": [
        {
          "output_type": "stream",
          "text": [
            "10\n",
            "20\n",
            "30\n"
          ],
          "name": "stdout"
        }
      ]
    },
    {
      "cell_type": "code",
      "metadata": {
        "colab": {
          "base_uri": "https://localhost:8080/"
        },
        "id": "eil-u2CchFjY",
        "outputId": "36e84914-39e1-49fa-d956-2facb9174403"
      },
      "source": [
        "# *x - 리스트/튜플 언패킹\n",
        "x, y = [10,20,30], (40, 50, 60)\n",
        "print_numbers(*x)\n",
        "print_numbers(*y)"
      ],
      "execution_count": 7,
      "outputs": [
        {
          "output_type": "stream",
          "text": [
            "10\n",
            "20\n",
            "30\n",
            "40\n",
            "50\n",
            "60\n"
          ],
          "name": "stdout"
        }
      ]
    },
    {
      "cell_type": "markdown",
      "metadata": {
        "id": "B9iao4xdh0Gi"
      },
      "source": [
        "### 가변 인수 함수"
      ]
    },
    {
      "cell_type": "code",
      "metadata": {
        "id": "ZfqoCLHChY_0"
      },
      "source": [
        "def print_numbers2(*args):\n",
        "  for arg in args:\n",
        "    print(arg)"
      ],
      "execution_count": 11,
      "outputs": []
    },
    {
      "cell_type": "code",
      "metadata": {
        "colab": {
          "base_uri": "https://localhost:8080/"
        },
        "id": "xu6Sntn5h8ix",
        "outputId": "54ddc791-df60-4003-92fc-3d69db533544"
      },
      "source": [
        "print_numbers2(10,20,30,40)"
      ],
      "execution_count": 12,
      "outputs": [
        {
          "output_type": "stream",
          "text": [
            "10\n",
            "20\n",
            "30\n",
            "40\n"
          ],
          "name": "stdout"
        }
      ]
    },
    {
      "cell_type": "code",
      "metadata": {
        "colab": {
          "base_uri": "https://localhost:8080/"
        },
        "id": "0LW8jbMGiLZz",
        "outputId": "a111e9c7-4156-4079-f97d-8ea5a8740622"
      },
      "source": [
        "print_numbers2(10)"
      ],
      "execution_count": 13,
      "outputs": [
        {
          "output_type": "stream",
          "text": [
            "10\n"
          ],
          "name": "stdout"
        }
      ]
    },
    {
      "cell_type": "markdown",
      "metadata": {
        "id": "N1-wwBNjiVe4"
      },
      "source": [
        "### 고정 인수와 가변 인수"
      ]
    },
    {
      "cell_type": "code",
      "metadata": {
        "id": "LulQ4tgTiNWM"
      },
      "source": [
        "def print_numbers3(a, *args):\n",
        "  print(a)\n",
        "  print(args)"
      ],
      "execution_count": 15,
      "outputs": []
    },
    {
      "cell_type": "code",
      "metadata": {
        "colab": {
          "base_uri": "https://localhost:8080/"
        },
        "id": "YygLBhSOi447",
        "outputId": "46ad10bf-099c-4cf1-95d1-09c727f9d930"
      },
      "source": [
        "print_numbers3(0, 10, 20)"
      ],
      "execution_count": 16,
      "outputs": [
        {
          "output_type": "stream",
          "text": [
            "0\n",
            "(10, 20)\n"
          ],
          "name": "stdout"
        }
      ]
    },
    {
      "cell_type": "code",
      "metadata": {
        "colab": {
          "base_uri": "https://localhost:8080/"
        },
        "id": "sWePLkrpi-Wn",
        "outputId": "00582b46-486d-42c8-dc02-573684dcc7bf"
      },
      "source": [
        "print_numbers3(*x)"
      ],
      "execution_count": 17,
      "outputs": [
        {
          "output_type": "stream",
          "text": [
            "10\n",
            "(20, 30)\n"
          ],
          "name": "stdout"
        }
      ]
    },
    {
      "cell_type": "code",
      "metadata": {
        "id": "CQIXs5gMjAUS"
      },
      "source": [
        "# 고정 위치 인수가 가변 위치 인수보다 먼저 나와야 함!!!\n",
        "def print_numbers4(*args, a):\n",
        "  print(args)\n",
        "  print(a)"
      ],
      "execution_count": 18,
      "outputs": []
    },
    {
      "cell_type": "code",
      "metadata": {
        "colab": {
          "base_uri": "https://localhost:8080/",
          "height": 174
        },
        "id": "5Nn0QuPajpQ7",
        "outputId": "67cbd591-6526-43df-a767-dd6aebd2798d"
      },
      "source": [
        "print_numbers4(*x)"
      ],
      "execution_count": 19,
      "outputs": [
        {
          "output_type": "error",
          "ename": "TypeError",
          "evalue": "ignored",
          "traceback": [
            "\u001b[0;31m---------------------------------------------------------------------------\u001b[0m",
            "\u001b[0;31mTypeError\u001b[0m                                 Traceback (most recent call last)",
            "\u001b[0;32m<ipython-input-19-c9aba5af1127>\u001b[0m in \u001b[0;36m<module>\u001b[0;34m()\u001b[0m\n\u001b[0;32m----> 1\u001b[0;31m \u001b[0mprint_numbers4\u001b[0m\u001b[0;34m(\u001b[0m\u001b[0;34m*\u001b[0m\u001b[0mx\u001b[0m\u001b[0;34m)\u001b[0m\u001b[0;34m\u001b[0m\u001b[0;34m\u001b[0m\u001b[0m\n\u001b[0m",
            "\u001b[0;31mTypeError\u001b[0m: print_numbers4() missing 1 required keyword-only argument: 'a'"
          ]
        }
      ]
    },
    {
      "cell_type": "markdown",
      "metadata": {
        "id": "G6FgynB6munh"
      },
      "source": [
        "## 30.2 키워드 인수"
      ]
    },
    {
      "cell_type": "code",
      "metadata": {
        "id": "e_pUKsBAjrL_"
      },
      "source": [
        "def personal_info(name, age, addr):\n",
        "  print('이름:', name)\n",
        "  print('나이:', age)\n",
        "  print('주소:', addr)"
      ],
      "execution_count": 22,
      "outputs": []
    },
    {
      "cell_type": "code",
      "metadata": {
        "colab": {
          "base_uri": "https://localhost:8080/"
        },
        "id": "sqlk8wScm2Gv",
        "outputId": "71397b03-c698-49bc-8bf1-741dad6bb4f7"
      },
      "source": [
        "personal_info('홍길동', 30, '서울 강남구 도곡동')"
      ],
      "execution_count": 23,
      "outputs": [
        {
          "output_type": "stream",
          "text": [
            "이름: 홍길동\n",
            "나이: 30\n",
            "주소: 서울 강남구 도곡동\n"
          ],
          "name": "stdout"
        }
      ]
    },
    {
      "cell_type": "code",
      "metadata": {
        "colab": {
          "base_uri": "https://localhost:8080/"
        },
        "id": "XGOd1Ze8nBZh",
        "outputId": "eaa70d03-1e21-4637-f694-cce4b2e3bdc7"
      },
      "source": [
        "personal_info(age=30, addr='서울 강남구 도곡동', name='홍길동')"
      ],
      "execution_count": 24,
      "outputs": [
        {
          "output_type": "stream",
          "text": [
            "이름: 홍길동\n",
            "나이: 30\n",
            "주소: 서울 강남구 도곡동\n"
          ],
          "name": "stdout"
        }
      ]
    },
    {
      "cell_type": "markdown",
      "metadata": {
        "id": "jOzzsoELnbf7"
      },
      "source": [
        "## 30.3 키워드 인수와 딕셔너리 언패킹"
      ]
    },
    {
      "cell_type": "code",
      "metadata": {
        "colab": {
          "base_uri": "https://localhost:8080/"
        },
        "id": "XLVlxV3JnNlp",
        "outputId": "6b6a0cf3-3e5e-4451-8b35-6e7d4a7db353"
      },
      "source": [
        "x = {'name': '홍길동', 'age':30, 'addr': '서울 강남구 도곡동'}\n",
        "personal_info(**x)"
      ],
      "execution_count": 25,
      "outputs": [
        {
          "output_type": "stream",
          "text": [
            "이름: 홍길동\n",
            "나이: 30\n",
            "주소: 서울 강남구 도곡동\n"
          ],
          "name": "stdout"
        }
      ]
    },
    {
      "cell_type": "code",
      "metadata": {
        "colab": {
          "base_uri": "https://localhost:8080/"
        },
        "id": "g9Bs_agcoBjG",
        "outputId": "6ee01209-55ac-4b0c-945f-5f018fbf6ce2"
      },
      "source": [
        "# *x는 x의 키를 불러냄\n",
        "personal_info(*x)"
      ],
      "execution_count": 27,
      "outputs": [
        {
          "output_type": "stream",
          "text": [
            "이름: name\n",
            "나이: age\n",
            "주소: addr\n"
          ],
          "name": "stdout"
        }
      ]
    },
    {
      "cell_type": "markdown",
      "metadata": {
        "id": "9DLNlt0OolX9"
      },
      "source": [
        "### 가변 키워드 인수"
      ]
    },
    {
      "cell_type": "code",
      "metadata": {
        "id": "m_p544CmoM0a"
      },
      "source": [
        "def personal_info2(**kwargs):\n",
        "  for key, value in kwargs.items():\n",
        "    print(f'{key}: {value}')"
      ],
      "execution_count": 31,
      "outputs": []
    },
    {
      "cell_type": "code",
      "metadata": {
        "colab": {
          "base_uri": "https://localhost:8080/"
        },
        "id": "9c9xch3Co7sW",
        "outputId": "157125c0-b276-4839-8350-0d602e05e2f9"
      },
      "source": [
        "personal_info2(**x)"
      ],
      "execution_count": 32,
      "outputs": [
        {
          "output_type": "stream",
          "text": [
            "name: 홍길동\n",
            "age: 30\n",
            "addr: 서울 강남구 도곡동\n"
          ],
          "name": "stdout"
        }
      ]
    },
    {
      "cell_type": "code",
      "metadata": {
        "colab": {
          "base_uri": "https://localhost:8080/"
        },
        "id": "UwoUMoDCpGoq",
        "outputId": "af44e954-ba40-471b-be32-019cb785647a"
      },
      "source": [
        "personal_info2(name='홍길동', age=30)"
      ],
      "execution_count": 33,
      "outputs": [
        {
          "output_type": "stream",
          "text": [
            "name: 홍길동\n",
            "age: 30\n"
          ],
          "name": "stdout"
        }
      ]
    },
    {
      "cell_type": "markdown",
      "metadata": {
        "id": "EgszL2XwpxQ5"
      },
      "source": [
        "### 고정 인수와 가변 키워드 인수"
      ]
    },
    {
      "cell_type": "code",
      "metadata": {
        "id": "oHHMRdPUpwNT"
      },
      "source": [
        "def personal_info3(name, **kwargs):\n",
        "  print(name)\n",
        "  print(kwargs)"
      ],
      "execution_count": 34,
      "outputs": []
    },
    {
      "cell_type": "code",
      "metadata": {
        "colab": {
          "base_uri": "https://localhost:8080/"
        },
        "id": "bih5ephLqgah",
        "outputId": "717e7795-a4bd-4180-bd8a-d45e0efa90c0"
      },
      "source": [
        "personal_info3(**x)"
      ],
      "execution_count": 35,
      "outputs": [
        {
          "output_type": "stream",
          "text": [
            "홍길동\n",
            "{'age': 30, 'addr': '서울 강남구 도곡동'}\n"
          ],
          "name": "stdout"
        }
      ]
    },
    {
      "cell_type": "markdown",
      "metadata": {
        "id": "gvVCoHhPqpHI"
      },
      "source": [
        "### 위치 인수와 키워드 인수"
      ]
    },
    {
      "cell_type": "code",
      "metadata": {
        "id": "0laMgN1yqibQ"
      },
      "source": [
        "def my_print(*args, **kwargs):\n",
        "  print(*args, **kwargs)"
      ],
      "execution_count": 37,
      "outputs": []
    },
    {
      "cell_type": "code",
      "metadata": {
        "colab": {
          "base_uri": "https://localhost:8080/"
        },
        "id": "FzDBAEt5qwFc",
        "outputId": "52ba5943-4032-4f21-eb48-0fc8aa05791b"
      },
      "source": [
        "my_print(10,20,30, sep=', ')"
      ],
      "execution_count": 38,
      "outputs": [
        {
          "output_type": "stream",
          "text": [
            "10, 20, 30\n"
          ],
          "name": "stdout"
        }
      ]
    },
    {
      "cell_type": "markdown",
      "metadata": {
        "id": "GwZkWvwbrxZw"
      },
      "source": [
        "## 30.4 매개변수에 초기값 지정"
      ]
    },
    {
      "cell_type": "code",
      "metadata": {
        "id": "HRtDGpkZrwo1"
      },
      "source": [
        "def personal_info4(name, age, addr='비공개'):\n",
        "  print('이름:', name)\n",
        "  print('나이:', age)\n",
        "  print('주소:', addr)"
      ],
      "execution_count": 39,
      "outputs": []
    },
    {
      "cell_type": "code",
      "metadata": {
        "colab": {
          "base_uri": "https://localhost:8080/"
        },
        "id": "aXtHyo_Jr_ET",
        "outputId": "3c9f2a98-de3a-4a00-a376-acc36135ebe6"
      },
      "source": [
        "personal_info4('홍길동', 30)"
      ],
      "execution_count": 40,
      "outputs": [
        {
          "output_type": "stream",
          "text": [
            "이름: 홍길동\n",
            "나이: 30\n",
            "주소: 비공개\n"
          ],
          "name": "stdout"
        }
      ]
    },
    {
      "cell_type": "code",
      "metadata": {
        "colab": {
          "base_uri": "https://localhost:8080/"
        },
        "id": "bqL92zbBsB3Z",
        "outputId": "24a998c2-7ba7-4c94-9308-1888b5938030"
      },
      "source": [
        "personal_info4(**x)"
      ],
      "execution_count": 41,
      "outputs": [
        {
          "output_type": "stream",
          "text": [
            "이름: 홍길동\n",
            "나이: 30\n",
            "주소: 서울 강남구 도곡동\n"
          ],
          "name": "stdout"
        }
      ]
    }
  ]
}