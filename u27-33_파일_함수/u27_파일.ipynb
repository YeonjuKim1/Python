{
  "nbformat": 4,
  "nbformat_minor": 0,
  "metadata": {
    "colab": {
      "name": "u27_파일.ipynb",
      "provenance": [],
      "collapsed_sections": []
    },
    "kernelspec": {
      "name": "python3",
      "display_name": "Python 3"
    },
    "language_info": {
      "name": "python"
    }
  },
  "cells": [
    {
      "cell_type": "code",
      "metadata": {
        "colab": {
          "base_uri": "https://localhost:8080/"
        },
        "id": "v4hPJOvaku8n",
        "outputId": "bfbb230f-b704-4707-da79-ae7e4ca363a8"
      },
      "source": [
        "!ls -l sample_data/"
      ],
      "execution_count": 1,
      "outputs": [
        {
          "output_type": "stream",
          "text": [
            "total 55504\n",
            "-rwxr-xr-x 1 root root     1697 Jan  1  2000 \u001b[0m\u001b[01;32manscombe.json\u001b[0m*\n",
            "-rw-r--r-- 1 root root   301141 Jul 16 13:20 california_housing_test.csv\n",
            "-rw-r--r-- 1 root root  1706430 Jul 16 13:20 california_housing_train.csv\n",
            "-rw-r--r-- 1 root root 18289443 Jul 16 13:20 mnist_test.csv\n",
            "-rw-r--r-- 1 root root 36523880 Jul 16 13:20 mnist_train_small.csv\n",
            "-rwxr-xr-x 1 root root      930 Jan  1  2000 \u001b[01;32mREADME.md\u001b[0m*\n"
          ],
          "name": "stdout"
        }
      ]
    },
    {
      "cell_type": "markdown",
      "metadata": {
        "id": "B7RettqomlkG"
      },
      "source": [
        "# Unit 27. 파일"
      ]
    },
    {
      "cell_type": "markdown",
      "metadata": {
        "id": "8AiZInewmoi-"
      },
      "source": [
        "## 27.1 문자열 쓰기, 읽기"
      ]
    },
    {
      "cell_type": "code",
      "metadata": {
        "id": "yv-W5TDImgDo"
      },
      "source": [
        "file = open('hello.txt', 'w')\n",
        "file.write('Hello, world!')\n",
        "file.close()"
      ],
      "execution_count": 2,
      "outputs": []
    },
    {
      "cell_type": "code",
      "metadata": {
        "colab": {
          "base_uri": "https://localhost:8080/"
        },
        "id": "Qs2l4ar7nDXe",
        "outputId": "badbc63c-cfe9-49a9-f672-92baa176973c"
      },
      "source": [
        "# cat은 unix 명령어. shell commend.(윈도우에서는 type)\n",
        "!cat hello.txt"
      ],
      "execution_count": 3,
      "outputs": [
        {
          "output_type": "stream",
          "text": [
            "Hello, world!"
          ],
          "name": "stdout"
        }
      ]
    },
    {
      "cell_type": "code",
      "metadata": {
        "colab": {
          "base_uri": "https://localhost:8080/"
        },
        "id": "MlYPtYVDnLSX",
        "outputId": "25750705-5fc9-448e-b23b-385938cada13"
      },
      "source": [
        "# 파이썬 스타일 아니래,,\n",
        "file = open('hello.txt') # 'r' mode가 default\n",
        "s = file.read()\n",
        "print(s)\n",
        "file.close()"
      ],
      "execution_count": 4,
      "outputs": [
        {
          "output_type": "stream",
          "text": [
            "Hello, world!\n"
          ],
          "name": "stdout"
        }
      ]
    },
    {
      "cell_type": "markdown",
      "metadata": {
        "id": "zPUVRNrsplVO"
      },
      "source": [
        "### 파이썬 스타일"
      ]
    },
    {
      "cell_type": "code",
      "metadata": {
        "colab": {
          "base_uri": "https://localhost:8080/"
        },
        "id": "WsFylB3fpXcX",
        "outputId": "ed944183-664c-47f3-9c60-8c6f39aaf128"
      },
      "source": [
        "with open('hello.txt') as file:   # with as를 이용하면 자동으로 close() 됨.\n",
        "  s = file.read()\n",
        "print(s)  "
      ],
      "execution_count": 5,
      "outputs": [
        {
          "output_type": "stream",
          "text": [
            "Hello, world!\n"
          ],
          "name": "stdout"
        }
      ]
    },
    {
      "cell_type": "markdown",
      "metadata": {
        "id": "iMfb0eHRqXou"
      },
      "source": [
        "## 27.2 문자열 여러줄"
      ]
    },
    {
      "cell_type": "code",
      "metadata": {
        "id": "H9HLjwfYpuqs"
      },
      "source": [
        "with open('hello.txt', 'w') as file:\n",
        "  for i in range(3):\n",
        "    file.write(f'Hello, world! {i+1}\\n')"
      ],
      "execution_count": 6,
      "outputs": []
    },
    {
      "cell_type": "code",
      "metadata": {
        "colab": {
          "base_uri": "https://localhost:8080/"
        },
        "id": "5CXR3qXzq1ms",
        "outputId": "51060b5b-4424-4122-ddbe-85f0d02c0536"
      },
      "source": [
        "!cat hello.txt"
      ],
      "execution_count": 7,
      "outputs": [
        {
          "output_type": "stream",
          "text": [
            "Hello, world! 1\n",
            "Hello, world! 2\n",
            "Hello, world! 3\n"
          ],
          "name": "stdout"
        }
      ]
    },
    {
      "cell_type": "code",
      "metadata": {
        "id": "detCi5Mkq3xE"
      },
      "source": [
        "lines = ['안녕하세요.\\n', '파이썬\\n', '코딩도장입니다.\\n']\n",
        "with open('hello.txt', 'w') as file:\n",
        "  file.writelines(lines)"
      ],
      "execution_count": 8,
      "outputs": []
    },
    {
      "cell_type": "code",
      "metadata": {
        "colab": {
          "base_uri": "https://localhost:8080/"
        },
        "id": "6zRoKIcSrxRM",
        "outputId": "1cc2b0de-8334-4069-8574-b1fadbc93093"
      },
      "source": [
        "!cat hello.txt"
      ],
      "execution_count": 9,
      "outputs": [
        {
          "output_type": "stream",
          "text": [
            "안녕하세요.\n",
            "파이썬\n",
            "코딩도장입니다.\n"
          ],
          "name": "stdout"
        }
      ]
    },
    {
      "cell_type": "code",
      "metadata": {
        "id": "gol9lLaZryyf"
      },
      "source": [
        "s = '''안녕하세요.\n",
        "파이썬\n",
        "코딩도장입니다.'''\n",
        "with open('hello.txt', 'w') as file:\n",
        "  file.write(s)"
      ],
      "execution_count": 10,
      "outputs": []
    },
    {
      "cell_type": "code",
      "metadata": {
        "colab": {
          "base_uri": "https://localhost:8080/"
        },
        "id": "DQc44Hkzs55X",
        "outputId": "96a02605-fc15-4744-ef4a-3992f421d4ad"
      },
      "source": [
        "with open('hello.txt') as file:\n",
        "  s = file.read()\n",
        "  print(s)"
      ],
      "execution_count": 12,
      "outputs": [
        {
          "output_type": "stream",
          "text": [
            "안녕하세요.\n",
            "파이썬\n",
            "코딩도장입니다.\n"
          ],
          "name": "stdout"
        }
      ]
    },
    {
      "cell_type": "code",
      "metadata": {
        "colab": {
          "base_uri": "https://localhost:8080/"
        },
        "id": "H_RNn0xctHOm",
        "outputId": "7cdd97a4-ac6f-42b8-f609-3c926b77238e"
      },
      "source": [
        "with open('hello.txt') as file:\n",
        "  s = file.readline()\n",
        "  print(s)"
      ],
      "execution_count": 13,
      "outputs": [
        {
          "output_type": "stream",
          "text": [
            "안녕하세요.\n",
            "\n"
          ],
          "name": "stdout"
        }
      ]
    },
    {
      "cell_type": "code",
      "metadata": {
        "colab": {
          "base_uri": "https://localhost:8080/"
        },
        "id": "y9eTZ37TtKWe",
        "outputId": "2a7a4948-8a42-441d-a6ea-9dca4dd96ce0"
      },
      "source": [
        "with open('hello.txt') as file:\n",
        "  line = None\n",
        "  while line != '':\n",
        "    line = file.readline()\n",
        "    print(line.strip('\\n'))"
      ],
      "execution_count": 15,
      "outputs": [
        {
          "output_type": "stream",
          "text": [
            "안녕하세요.\n",
            "파이썬\n",
            "코딩도장입니다.\n",
            "\n"
          ],
          "name": "stdout"
        }
      ]
    },
    {
      "cell_type": "code",
      "metadata": {
        "colab": {
          "base_uri": "https://localhost:8080/"
        },
        "id": "8M0fXyRot40y",
        "outputId": "aa6bae54-72b2-4f35-dc67-c46cb83ab1fc"
      },
      "source": [
        "with open('hello.txt') as file:\n",
        "  for line in file:\n",
        "    print(line.strip('\\n'))"
      ],
      "execution_count": 16,
      "outputs": [
        {
          "output_type": "stream",
          "text": [
            "안녕하세요.\n",
            "파이썬\n",
            "코딩도장입니다.\n"
          ],
          "name": "stdout"
        }
      ]
    },
    {
      "cell_type": "code",
      "metadata": {
        "colab": {
          "base_uri": "https://localhost:8080/"
        },
        "id": "eHKWtXfNxMZO",
        "outputId": "10c135ac-42c7-4d79-ea11-8deff7ec42af"
      },
      "source": [
        "dir(file)  # __iter__ 가 정의되어 있으면 for문 사용가능"
      ],
      "execution_count": 17,
      "outputs": [
        {
          "output_type": "execute_result",
          "data": {
            "text/plain": [
              "['_CHUNK_SIZE',\n",
              " '__class__',\n",
              " '__del__',\n",
              " '__delattr__',\n",
              " '__dict__',\n",
              " '__dir__',\n",
              " '__doc__',\n",
              " '__enter__',\n",
              " '__eq__',\n",
              " '__exit__',\n",
              " '__format__',\n",
              " '__ge__',\n",
              " '__getattribute__',\n",
              " '__getstate__',\n",
              " '__gt__',\n",
              " '__hash__',\n",
              " '__init__',\n",
              " '__init_subclass__',\n",
              " '__iter__',\n",
              " '__le__',\n",
              " '__lt__',\n",
              " '__ne__',\n",
              " '__new__',\n",
              " '__next__',\n",
              " '__reduce__',\n",
              " '__reduce_ex__',\n",
              " '__repr__',\n",
              " '__setattr__',\n",
              " '__sizeof__',\n",
              " '__str__',\n",
              " '__subclasshook__',\n",
              " '_checkClosed',\n",
              " '_checkReadable',\n",
              " '_checkSeekable',\n",
              " '_checkWritable',\n",
              " '_finalizing',\n",
              " 'buffer',\n",
              " 'close',\n",
              " 'closed',\n",
              " 'detach',\n",
              " 'encoding',\n",
              " 'errors',\n",
              " 'fileno',\n",
              " 'flush',\n",
              " 'isatty',\n",
              " 'line_buffering',\n",
              " 'mode',\n",
              " 'name',\n",
              " 'newlines',\n",
              " 'read',\n",
              " 'readable',\n",
              " 'readline',\n",
              " 'readlines',\n",
              " 'reconfigure',\n",
              " 'seek',\n",
              " 'seekable',\n",
              " 'tell',\n",
              " 'truncate',\n",
              " 'writable',\n",
              " 'write',\n",
              " 'write_through',\n",
              " 'writelines']"
            ]
          },
          "metadata": {
            "tags": []
          },
          "execution_count": 17
        }
      ]
    },
    {
      "cell_type": "code",
      "metadata": {
        "colab": {
          "base_uri": "https://localhost:8080/"
        },
        "id": "vbwqp8oCxO-K",
        "outputId": "7389b02a-f73c-4a09-d27c-bf5d11a3e9f5"
      },
      "source": [
        "x = {'a':10, 'b':20}\n",
        "dir(x)"
      ],
      "execution_count": 18,
      "outputs": [
        {
          "output_type": "execute_result",
          "data": {
            "text/plain": [
              "['__class__',\n",
              " '__contains__',\n",
              " '__delattr__',\n",
              " '__delitem__',\n",
              " '__dir__',\n",
              " '__doc__',\n",
              " '__eq__',\n",
              " '__format__',\n",
              " '__ge__',\n",
              " '__getattribute__',\n",
              " '__getitem__',\n",
              " '__gt__',\n",
              " '__hash__',\n",
              " '__init__',\n",
              " '__init_subclass__',\n",
              " '__iter__',\n",
              " '__le__',\n",
              " '__len__',\n",
              " '__lt__',\n",
              " '__ne__',\n",
              " '__new__',\n",
              " '__reduce__',\n",
              " '__reduce_ex__',\n",
              " '__repr__',\n",
              " '__setattr__',\n",
              " '__setitem__',\n",
              " '__sizeof__',\n",
              " '__str__',\n",
              " '__subclasshook__',\n",
              " 'clear',\n",
              " 'copy',\n",
              " 'fromkeys',\n",
              " 'get',\n",
              " 'items',\n",
              " 'keys',\n",
              " 'pop',\n",
              " 'popitem',\n",
              " 'setdefault',\n",
              " 'update',\n",
              " 'values']"
            ]
          },
          "metadata": {
            "tags": []
          },
          "execution_count": 18
        }
      ]
    },
    {
      "cell_type": "code",
      "metadata": {
        "colab": {
          "base_uri": "https://localhost:8080/"
        },
        "id": "HzESY1SUxqlm",
        "outputId": "7a9ee0f5-5345-4b4c-ead4-4c0377eeda5e"
      },
      "source": [
        "for a in x:\n",
        "  print(a)"
      ],
      "execution_count": 20,
      "outputs": [
        {
          "output_type": "stream",
          "text": [
            "a\n",
            "b\n"
          ],
          "name": "stdout"
        }
      ]
    },
    {
      "cell_type": "code",
      "metadata": {
        "colab": {
          "base_uri": "https://localhost:8080/"
        },
        "id": "4mXySGsHx4By",
        "outputId": "7c8cb616-4ca5-4f59-9ff1-bbe862f1a6b6"
      },
      "source": [
        "with open('hello.txt') as file:\n",
        "  s = file.read(10)\n",
        "  print(s)"
      ],
      "execution_count": 21,
      "outputs": [
        {
          "output_type": "stream",
          "text": [
            "안녕하세요.\n",
            "파이썬\n"
          ],
          "name": "stdout"
        }
      ]
    },
    {
      "cell_type": "markdown",
      "metadata": {
        "id": "zpOWMOOTy30f"
      },
      "source": [
        "### append"
      ]
    },
    {
      "cell_type": "code",
      "metadata": {
        "id": "fA9bAWbby4vk"
      },
      "source": [
        "with open('hello.txt', 'a') as file:\n",
        "  file.write('Append\\n')"
      ],
      "execution_count": 23,
      "outputs": []
    },
    {
      "cell_type": "code",
      "metadata": {
        "colab": {
          "base_uri": "https://localhost:8080/"
        },
        "id": "dYhy0r3mzMti",
        "outputId": "f250b9d5-e56f-4c17-9035-bbe618e66839"
      },
      "source": [
        "!cat hello.txt"
      ],
      "execution_count": 24,
      "outputs": [
        {
          "output_type": "stream",
          "text": [
            "안녕하세요.\n",
            "파이썬\n",
            "코딩도장입니다.Append\n"
          ],
          "name": "stdout"
        }
      ]
    },
    {
      "cell_type": "markdown",
      "metadata": {
        "id": "JS74GUnhzfOV"
      },
      "source": [
        "### binary mode"
      ]
    },
    {
      "cell_type": "code",
      "metadata": {
        "colab": {
          "base_uri": "https://localhost:8080/"
        },
        "id": "0RO08kckzOt1",
        "outputId": "06575ec0-180b-43e0-ad73-f505b31e6c49"
      },
      "source": [
        "with open('bread.jpg', 'rb') as bin:\n",
        "  x = bin.read(10)\n",
        "\n",
        "print(x)"
      ],
      "execution_count": 25,
      "outputs": [
        {
          "output_type": "stream",
          "text": [
            "b'\\xff\\xd8\\xff\\xe0\\x00\\x10JFIF'\n"
          ],
          "name": "stdout"
        }
      ]
    },
    {
      "cell_type": "markdown",
      "metadata": {
        "id": "6hlPD5Vk083a"
      },
      "source": [
        "## 27.3 파이썬 객체 읽고 쓰기"
      ]
    },
    {
      "cell_type": "code",
      "metadata": {
        "id": "_5AJ8v9g05J8"
      },
      "source": [
        "import pickle\n",
        "\n",
        "scores = {'kor':90, 'eng':90, 'mat':80}\n",
        "with open('binary.pkl', 'wb') as file:\n",
        "  pickle.dump(scores, file)"
      ],
      "execution_count": 27,
      "outputs": []
    },
    {
      "cell_type": "code",
      "metadata": {
        "colab": {
          "base_uri": "https://localhost:8080/"
        },
        "id": "fXuKsJzH1Xn5",
        "outputId": "ed13010d-d4f7-4e74-c9ae-ddfd42a85ac9"
      },
      "source": [
        "!cat binary.pkl"
      ],
      "execution_count": 28,
      "outputs": [
        {
          "output_type": "stream",
          "text": [
            "�\u0003}q\u0000(X\u0003\u0000\u0000\u0000korq\u0001KZX\u0003\u0000\u0000\u0000engq\u0002KZX\u0003\u0000\u0000\u0000matq\u0003KPu."
          ],
          "name": "stdout"
        }
      ]
    },
    {
      "cell_type": "code",
      "metadata": {
        "colab": {
          "base_uri": "https://localhost:8080/"
        },
        "id": "rDZWpjab1wRz",
        "outputId": "204f0a31-9df0-4d06-e0db-7b8787cd3ebc"
      },
      "source": [
        "!hd binary.pkl"
      ],
      "execution_count": 29,
      "outputs": [
        {
          "output_type": "stream",
          "text": [
            "00000000  80 03 7d 71 00 28 58 03  00 00 00 6b 6f 72 71 01  |..}q.(X....korq.|\n",
            "00000010  4b 5a 58 03 00 00 00 65  6e 67 71 02 4b 5a 58 03  |KZX....engq.KZX.|\n",
            "00000020  00 00 00 6d 61 74 71 03  4b 50 75 2e              |...matq.KPu.|\n",
            "0000002c\n"
          ],
          "name": "stdout"
        }
      ]
    },
    {
      "cell_type": "code",
      "metadata": {
        "id": "U_NEME8v1ym6"
      },
      "source": [
        ""
      ],
      "execution_count": null,
      "outputs": []
    }
  ]
}