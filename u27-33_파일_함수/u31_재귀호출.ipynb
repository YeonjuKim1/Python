{
  "nbformat": 4,
  "nbformat_minor": 0,
  "metadata": {
    "colab": {
      "name": "u31_재귀호출.ipynb",
      "provenance": [],
      "collapsed_sections": []
    },
    "kernelspec": {
      "name": "python3",
      "display_name": "Python 3"
    },
    "language_info": {
      "name": "python"
    }
  },
  "cells": [
    {
      "cell_type": "markdown",
      "metadata": {
        "id": "Tvi_lEf3umyK"
      },
      "source": [
        "#Unit 31. 재귀호출(Recursive Call)"
      ]
    },
    {
      "cell_type": "markdown",
      "metadata": {
        "id": "7rtzGgnQurKZ"
      },
      "source": [
        "### factorial 함수를 재귀호출로 구현"
      ]
    },
    {
      "cell_type": "code",
      "metadata": {
        "id": "yA_PIOxEuiZP"
      },
      "source": [
        "def factorial(n):\n",
        "  if n == 0:    # n ==1:\n",
        "    return 1\n",
        "  return n*factorial(n-1)"
      ],
      "execution_count": 1,
      "outputs": []
    },
    {
      "cell_type": "code",
      "metadata": {
        "colab": {
          "base_uri": "https://localhost:8080/"
        },
        "id": "CPoPsH3Huz5P",
        "outputId": "e66dd90d-35a7-465c-8e83-d72d2276fd89"
      },
      "source": [
        "factorial(5)"
      ],
      "execution_count": 2,
      "outputs": [
        {
          "output_type": "execute_result",
          "data": {
            "text/plain": [
              "120"
            ]
          },
          "metadata": {
            "tags": []
          },
          "execution_count": 2
        }
      ]
    },
    {
      "cell_type": "markdown",
      "metadata": {
        "id": "iQLhzAtewnWX"
      },
      "source": [
        "### fibonacci 수열\n",
        "- f(n) = f(n-1) + f(n-2), n == 3 일 때,\n",
        "- f(1) = 1, f(2) = 1"
      ]
    },
    {
      "cell_type": "code",
      "metadata": {
        "id": "L4fF_64qvNfk"
      },
      "source": [
        "def fibo(n):\n",
        "  if n == 1 or n ==2:\n",
        "    return 1\n",
        "  return fibo(n-1) + fibo(n-2)"
      ],
      "execution_count": 6,
      "outputs": []
    },
    {
      "cell_type": "code",
      "metadata": {
        "colab": {
          "base_uri": "https://localhost:8080/"
        },
        "id": "R0aR3WhMx4Qy",
        "outputId": "8a0b0c56-0292-4f8c-95c0-f0cc270006c3"
      },
      "source": [
        "[fibo(i) for i in range(1,11)]"
      ],
      "execution_count": 8,
      "outputs": [
        {
          "output_type": "execute_result",
          "data": {
            "text/plain": [
              "[1, 1, 2, 3, 5, 8, 13, 21, 34, 55]"
            ]
          },
          "metadata": {
            "tags": []
          },
          "execution_count": 8
        }
      ]
    }
  ]
}