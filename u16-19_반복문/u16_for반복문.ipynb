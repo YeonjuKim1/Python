{
  "nbformat": 4,
  "nbformat_minor": 0,
  "metadata": {
    "colab": {
      "name": "u16_for반복문.ipynb",
      "provenance": [],
      "collapsed_sections": []
    },
    "kernelspec": {
      "name": "python3",
      "display_name": "Python 3"
    },
    "language_info": {
      "name": "python"
    }
  },
  "cells": [
    {
      "cell_type": "markdown",
      "metadata": {
        "id": "yAoeuJDHtBdN"
      },
      "source": [
        "# Unit 16. for 반복문"
      ]
    },
    {
      "cell_type": "markdown",
      "metadata": {
        "id": "9TaUT8JxtJ15"
      },
      "source": [
        "## 16.1 for와 range"
      ]
    },
    {
      "cell_type": "code",
      "metadata": {
        "colab": {
          "base_uri": "https://localhost:8080/"
        },
        "id": "iZMukEwztIbG",
        "outputId": "09fd371e-bc51-4dce-e040-e2752dc624ba"
      },
      "source": [
        "for i in range(10):\n",
        "  print(\"Hello, world!\")"
      ],
      "execution_count": 2,
      "outputs": [
        {
          "output_type": "stream",
          "text": [
            "Hello, world!\n",
            "Hello, world!\n",
            "Hello, world!\n",
            "Hello, world!\n",
            "Hello, world!\n",
            "Hello, world!\n",
            "Hello, world!\n",
            "Hello, world!\n",
            "Hello, world!\n",
            "Hello, world!\n"
          ],
          "name": "stdout"
        }
      ]
    },
    {
      "cell_type": "code",
      "metadata": {
        "colab": {
          "base_uri": "https://localhost:8080/"
        },
        "id": "e-qbMFMvti-g",
        "outputId": "c4e09790-5c88-43b6-ffd6-fbad8154974e"
      },
      "source": [
        "for i in range(10):\n",
        "  print(\"Hello, world!\", i)"
      ],
      "execution_count": 3,
      "outputs": [
        {
          "output_type": "stream",
          "text": [
            "Hello, world! 0\n",
            "Hello, world! 1\n",
            "Hello, world! 2\n",
            "Hello, world! 3\n",
            "Hello, world! 4\n",
            "Hello, world! 5\n",
            "Hello, world! 6\n",
            "Hello, world! 7\n",
            "Hello, world! 8\n",
            "Hello, world! 9\n"
          ],
          "name": "stdout"
        }
      ]
    },
    {
      "cell_type": "markdown",
      "metadata": {
        "id": "A94OsrtcyIyQ"
      },
      "source": [
        "## 16.2 for와 range 응용"
      ]
    },
    {
      "cell_type": "code",
      "metadata": {
        "colab": {
          "base_uri": "https://localhost:8080/"
        },
        "id": "8HF8QVJxvS7M",
        "outputId": "5cda138a-258f-475c-e42d-2db5ea5aeab7"
      },
      "source": [
        "for i in range(6,10):\n",
        "  print('Hello, world!', i)"
      ],
      "execution_count": 4,
      "outputs": [
        {
          "output_type": "stream",
          "text": [
            "Hello, world! 6\n",
            "Hello, world! 7\n",
            "Hello, world! 8\n",
            "Hello, world! 9\n"
          ],
          "name": "stdout"
        }
      ]
    },
    {
      "cell_type": "code",
      "metadata": {
        "colab": {
          "base_uri": "https://localhost:8080/"
        },
        "id": "buPHKkXmyUAV",
        "outputId": "17e35ccb-8c4f-49b7-d313-4f80920f3608"
      },
      "source": [
        "for i in range(0, 10, 2):\n",
        "  print('Hello, world!', i)"
      ],
      "execution_count": 5,
      "outputs": [
        {
          "output_type": "stream",
          "text": [
            "Hello, world! 0\n",
            "Hello, world! 2\n",
            "Hello, world! 4\n",
            "Hello, world! 6\n",
            "Hello, world! 8\n"
          ],
          "name": "stdout"
        }
      ]
    },
    {
      "cell_type": "code",
      "metadata": {
        "colab": {
          "base_uri": "https://localhost:8080/"
        },
        "id": "uBzY2_F8yZCL",
        "outputId": "545d8bf4-48c5-4150-9b4e-7383f200eb2e"
      },
      "source": [
        "for i in range(10, 0, -2):\n",
        "  print('Hello, world!', i)"
      ],
      "execution_count": 6,
      "outputs": [
        {
          "output_type": "stream",
          "text": [
            "Hello, world! 10\n",
            "Hello, world! 8\n",
            "Hello, world! 6\n",
            "Hello, world! 4\n",
            "Hello, world! 2\n"
          ],
          "name": "stdout"
        }
      ]
    },
    {
      "cell_type": "code",
      "metadata": {
        "colab": {
          "base_uri": "https://localhost:8080/"
        },
        "id": "76n9CSjoydjv",
        "outputId": "f99566a1-6c7d-407f-c150-4ff66df02d0b"
      },
      "source": [
        "for i in range(1,101):\n",
        "  print('Fizz'*(i%3==0)+'Buzz'*(i%5==0) or i, end=' ')\n",
        "  if (i%10 == 0):\n",
        "    print()"
      ],
      "execution_count": 8,
      "outputs": [
        {
          "output_type": "stream",
          "text": [
            "1 2 Fizz 4 Buzz Fizz 7 8 Fizz Buzz \n",
            "11 Fizz 13 14 FizzBuzz 16 17 Fizz 19 Buzz \n",
            "Fizz 22 23 Fizz Buzz 26 Fizz 28 29 FizzBuzz \n",
            "31 32 Fizz 34 Buzz Fizz 37 38 Fizz Buzz \n",
            "41 Fizz 43 44 FizzBuzz 46 47 Fizz 49 Buzz \n",
            "Fizz 52 53 Fizz Buzz 56 Fizz 58 59 FizzBuzz \n",
            "61 62 Fizz 64 Buzz Fizz 67 68 Fizz Buzz \n",
            "71 Fizz 73 74 FizzBuzz 76 77 Fizz 79 Buzz \n",
            "Fizz 82 83 Fizz Buzz 86 Fizz 88 89 FizzBuzz \n",
            "91 92 Fizz 94 Buzz Fizz 97 98 Fizz Buzz \n"
          ],
          "name": "stdout"
        }
      ]
    },
    {
      "cell_type": "markdown",
      "metadata": {
        "id": "zYk38uuw0Qe9"
      },
      "source": [
        "## 16.3 시퀀스 객체 반복"
      ]
    },
    {
      "cell_type": "code",
      "metadata": {
        "colab": {
          "base_uri": "https://localhost:8080/"
        },
        "id": "Jdnu7jlbzKfP",
        "outputId": "1e532c36-b47d-4e76-b429-2ca632bbd018"
      },
      "source": [
        "fruits = ['apple', 'banana', 'cherry']\n",
        "for element in fruits:\n",
        "  print(element)"
      ],
      "execution_count": 9,
      "outputs": [
        {
          "output_type": "stream",
          "text": [
            "apple\n",
            "banana\n",
            "cherry\n"
          ],
          "name": "stdout"
        }
      ]
    },
    {
      "cell_type": "code",
      "metadata": {
        "colab": {
          "base_uri": "https://localhost:8080/"
        },
        "id": "mdASDICs0Y7c",
        "outputId": "69d7e693-193d-4d22-abcd-3e36ccafc8a7"
      },
      "source": [
        "fruit_list = ['apple', 'banana', 'cherry']\n",
        "for fruit in fruit_list:\n",
        "  print(fruit)"
      ],
      "execution_count": 10,
      "outputs": [
        {
          "output_type": "stream",
          "text": [
            "apple\n",
            "banana\n",
            "cherry\n"
          ],
          "name": "stdout"
        }
      ]
    },
    {
      "cell_type": "code",
      "metadata": {
        "colab": {
          "base_uri": "https://localhost:8080/"
        },
        "id": "seLU4KU12ch6",
        "outputId": "b54c17f2-c8de-4079-8720-3d5e7e2f0b60"
      },
      "source": [
        "for letter in 'Python':\n",
        "  print(letter, end='')"
      ],
      "execution_count": 12,
      "outputs": [
        {
          "output_type": "stream",
          "text": [
            "Python"
          ],
          "name": "stdout"
        }
      ]
    },
    {
      "cell_type": "code",
      "metadata": {
        "colab": {
          "base_uri": "https://localhost:8080/"
        },
        "id": "ekwx7jkP2hbn",
        "outputId": "068abded-cc3c-49a0-80b4-a9464ae18c48"
      },
      "source": [
        "for letter in reversed('Python'):\n",
        "  print(letter, end=' ')"
      ],
      "execution_count": 13,
      "outputs": [
        {
          "output_type": "stream",
          "text": [
            "n o h t y P "
          ],
          "name": "stdout"
        }
      ]
    },
    {
      "cell_type": "code",
      "metadata": {
        "colab": {
          "base_uri": "https://localhost:8080/"
        },
        "id": "m9-B6ULV2t3O",
        "outputId": "315199ca-ee40-4320-ad3e-8c5c705a25a0"
      },
      "source": [
        "for number in (10,20, 30):\n",
        "  print(number)"
      ],
      "execution_count": 14,
      "outputs": [
        {
          "output_type": "stream",
          "text": [
            "10\n",
            "20\n",
            "30\n"
          ],
          "name": "stdout"
        }
      ]
    },
    {
      "cell_type": "code",
      "metadata": {
        "id": "D9yfJmDT2_zw"
      },
      "source": [
        ""
      ],
      "execution_count": null,
      "outputs": []
    }
  ]
}