{
  "nbformat": 4,
  "nbformat_minor": 0,
  "metadata": {
    "colab": {
      "name": "u17_while.ipynb",
      "provenance": [],
      "collapsed_sections": []
    },
    "kernelspec": {
      "name": "python3",
      "display_name": "Python 3"
    },
    "language_info": {
      "name": "python"
    }
  },
  "cells": [
    {
      "cell_type": "markdown",
      "metadata": {
        "id": "zYrTA-3UA3-E"
      },
      "source": [
        "# Unit 17. while 반복문"
      ]
    },
    {
      "cell_type": "markdown",
      "metadata": {
        "id": "Kgsb8gd4A_Da"
      },
      "source": [
        "## 17.1 while 반복문\n",
        "- 반복횟수가 정해져 있는 반복문은 while을 쓰지 않는다"
      ]
    },
    {
      "cell_type": "code",
      "metadata": {
        "id": "lEVgSSCYA9pP"
      },
      "source": [
        "while 조건:\n",
        "  조건이 참인 동안 loop 반복"
      ],
      "execution_count": null,
      "outputs": []
    },
    {
      "cell_type": "markdown",
      "metadata": {
        "id": "B-7gluDICC-U"
      },
      "source": [
        "## 17.2 반복 횟수가 없는 while 반복문"
      ]
    },
    {
      "cell_type": "code",
      "metadata": {
        "id": "CB78-VwBCHVP"
      },
      "source": [
        "import random"
      ],
      "execution_count": 1,
      "outputs": []
    },
    {
      "cell_type": "code",
      "metadata": {
        "colab": {
          "base_uri": "https://localhost:8080/"
        },
        "id": "_5P0NXt_CT9V",
        "outputId": "16b95c72-7e4d-42df-ff01-6b80c1330df0"
      },
      "source": [
        "random.random()"
      ],
      "execution_count": 2,
      "outputs": [
        {
          "output_type": "execute_result",
          "data": {
            "text/plain": [
              "0.5642796235605859"
            ]
          },
          "metadata": {
            "tags": []
          },
          "execution_count": 2
        }
      ]
    },
    {
      "cell_type": "code",
      "metadata": {
        "colab": {
          "base_uri": "https://localhost:8080/"
        },
        "id": "Kzkwnx3NCWbq",
        "outputId": "98daf273-effc-4469-8196-f738a49d229a"
      },
      "source": [
        "random.randint(1,6)"
      ],
      "execution_count": 3,
      "outputs": [
        {
          "output_type": "execute_result",
          "data": {
            "text/plain": [
              "2"
            ]
          },
          "metadata": {
            "tags": []
          },
          "execution_count": 3
        }
      ]
    },
    {
      "cell_type": "code",
      "metadata": {
        "colab": {
          "base_uri": "https://localhost:8080/"
        },
        "id": "XpW_qLQ6C9jW",
        "outputId": "56a9380a-a763-4c65-9d8e-15da50bf9df4"
      },
      "source": [
        "i = 0\n",
        "while i != 3:\n",
        "  i = random.randint(1,6)\n",
        "  print(i)"
      ],
      "execution_count": 4,
      "outputs": [
        {
          "output_type": "stream",
          "text": [
            "2\n",
            "6\n",
            "1\n",
            "3\n"
          ],
          "name": "stdout"
        }
      ]
    },
    {
      "cell_type": "code",
      "metadata": {
        "colab": {
          "base_uri": "https://localhost:8080/"
        },
        "id": "PHbHdNqaDDkm",
        "outputId": "9ecbbfcb-7aff-424a-c27f-e94bbebb5ea4"
      },
      "source": [
        "i = 0\n",
        "dice = list(range(1,7))\n",
        "while i != 3:\n",
        "  i = random.choice(dice)\n",
        "  print(i)"
      ],
      "execution_count": 5,
      "outputs": [
        {
          "output_type": "stream",
          "text": [
            "4\n",
            "1\n",
            "3\n"
          ],
          "name": "stdout"
        }
      ]
    },
    {
      "cell_type": "code",
      "metadata": {
        "colab": {
          "base_uri": "https://localhost:8080/"
        },
        "id": "Pg-xwsb9DYXt",
        "outputId": "c302be13-441f-4eac-a189-eb44132833ea"
      },
      "source": [
        "random.sample(dice, 6)"
      ],
      "execution_count": 6,
      "outputs": [
        {
          "output_type": "execute_result",
          "data": {
            "text/plain": [
              "[5, 3, 1, 6, 4, 2]"
            ]
          },
          "metadata": {
            "tags": []
          },
          "execution_count": 6
        }
      ]
    },
    {
      "cell_type": "code",
      "metadata": {
        "id": "9Hk5NfHvEbVu"
      },
      "source": [
        ""
      ],
      "execution_count": null,
      "outputs": []
    }
  ]
}