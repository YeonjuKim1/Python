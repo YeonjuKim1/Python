{
  "nbformat": 4,
  "nbformat_minor": 0,
  "metadata": {
    "colab": {
      "name": "u19_중첩반복문.ipynb",
      "provenance": [],
      "collapsed_sections": []
    },
    "kernelspec": {
      "name": "python3",
      "display_name": "Python 3"
    },
    "language_info": {
      "name": "python"
    }
  },
  "cells": [
    {
      "cell_type": "markdown",
      "metadata": {
        "id": "sWmEhNNJbaom"
      },
      "source": [
        "# Unit 19. 중첩 반복문"
      ]
    },
    {
      "cell_type": "markdown",
      "metadata": {
        "id": "9u5aaoh0beiU"
      },
      "source": [
        "## 19.1 중첩(Nested) for loop"
      ]
    },
    {
      "cell_type": "code",
      "metadata": {
        "colab": {
          "base_uri": "https://localhost:8080/"
        },
        "id": "161CpoCKbY2e",
        "outputId": "67d8316f-4109-40aa-8aa1-f3c2d2e94a33"
      },
      "source": [
        "for i in range(5):\n",
        "  for k in range(10, 60, 10):\n",
        "    print(k, end=' ')\n",
        "  print(i)"
      ],
      "execution_count": 1,
      "outputs": [
        {
          "output_type": "stream",
          "text": [
            "10 20 30 40 50 0\n",
            "10 20 30 40 50 1\n",
            "10 20 30 40 50 2\n",
            "10 20 30 40 50 3\n",
            "10 20 30 40 50 4\n"
          ],
          "name": "stdout"
        }
      ]
    },
    {
      "cell_type": "markdown",
      "metadata": {
        "id": "jB7hWDwNcxHJ"
      },
      "source": [
        "## 19.2 별 사각형"
      ]
    },
    {
      "cell_type": "code",
      "metadata": {
        "colab": {
          "base_uri": "https://localhost:8080/"
        },
        "id": "4RR10i7DcWIt",
        "outputId": "c8c920f1-d410-41a9-e8c6-7da9fb0f80e5"
      },
      "source": [
        "for i in range(5):\n",
        "  for k in range(5):\n",
        "    print('*', end='')\n",
        "  print()"
      ],
      "execution_count": 2,
      "outputs": [
        {
          "output_type": "stream",
          "text": [
            "*****\n",
            "*****\n",
            "*****\n",
            "*****\n",
            "*****\n"
          ],
          "name": "stdout"
        }
      ]
    },
    {
      "cell_type": "code",
      "metadata": {
        "colab": {
          "base_uri": "https://localhost:8080/"
        },
        "id": "2P7KLlzdc71-",
        "outputId": "4a408354-8400-48f1-8205-52afa4a60b59"
      },
      "source": [
        "#평행사변형\n",
        "for i in range(4):\n",
        "  for _ in range(0,i):\n",
        "    print(' ', end='')\n",
        "  for _ in range(5):\n",
        "    print('*', end='')\n",
        "  print()"
      ],
      "execution_count": 4,
      "outputs": [
        {
          "output_type": "stream",
          "text": [
            "*****\n",
            " *****\n",
            "  *****\n",
            "   *****\n"
          ],
          "name": "stdout"
        }
      ]
    },
    {
      "cell_type": "code",
      "metadata": {
        "id": "J0oXiAdleaJq"
      },
      "source": [
        "for i in range(0, 0):\n",
        "  print('*')"
      ],
      "execution_count": 5,
      "outputs": []
    },
    {
      "cell_type": "code",
      "metadata": {
        "colab": {
          "base_uri": "https://localhost:8080/"
        },
        "id": "EsDiFPwuezWs",
        "outputId": "6bb15479-ddf6-4f16-967c-4511efc71fe7"
      },
      "source": [
        "for i in range(4):\n",
        "  print(' '*i, '*'*5, sep='')"
      ],
      "execution_count": 6,
      "outputs": [
        {
          "output_type": "stream",
          "text": [
            "*****\n",
            " *****\n",
            "  *****\n",
            "   *****\n"
          ],
          "name": "stdout"
        }
      ]
    },
    {
      "cell_type": "markdown",
      "metadata": {
        "id": "JxJDTVVAfeIQ"
      },
      "source": [
        "## 19.3 계단식 별 모양"
      ]
    },
    {
      "cell_type": "code",
      "metadata": {
        "colab": {
          "base_uri": "https://localhost:8080/"
        },
        "id": "ozh-PXvVe4ws",
        "outputId": "df8b307e-6153-4ff5-9522-edfa71f485ac"
      },
      "source": [
        "for i in range(5):\n",
        "  for _ in range(i+1):\n",
        "    print('*', end='')\n",
        "  print()"
      ],
      "execution_count": 7,
      "outputs": [
        {
          "output_type": "stream",
          "text": [
            "*\n",
            "**\n",
            "***\n",
            "****\n",
            "*****\n"
          ],
          "name": "stdout"
        }
      ]
    },
    {
      "cell_type": "code",
      "metadata": {
        "colab": {
          "base_uri": "https://localhost:8080/"
        },
        "id": "CUVE6nW7fz_P",
        "outputId": "cb9485c4-925a-4a62-de62-59b4a9e85b4d"
      },
      "source": [
        "for i in range(5):\n",
        "  for _ in range(i):\n",
        "    print(' ', end='')\n",
        "  for _ in range(5-i):\n",
        "    print('*', end='')\n",
        "  print()"
      ],
      "execution_count": 8,
      "outputs": [
        {
          "output_type": "stream",
          "text": [
            "*****\n",
            " ****\n",
            "  ***\n",
            "   **\n",
            "    *\n"
          ],
          "name": "stdout"
        }
      ]
    },
    {
      "cell_type": "code",
      "metadata": {
        "colab": {
          "base_uri": "https://localhost:8080/"
        },
        "id": "xdSZlVJwgzSL",
        "outputId": "33734bdd-04ce-4562-9e37-90ed743cd09e"
      },
      "source": [
        "for i in range(5):\n",
        "  print(' '*i, '*'*(5-i), sep='')"
      ],
      "execution_count": 9,
      "outputs": [
        {
          "output_type": "stream",
          "text": [
            "*****\n",
            " ****\n",
            "  ***\n",
            "   **\n",
            "    *\n"
          ],
          "name": "stdout"
        }
      ]
    },
    {
      "cell_type": "markdown",
      "metadata": {
        "id": "a6EnQ51ykJoF"
      },
      "source": [
        "### DIamond 그리기"
      ]
    },
    {
      "cell_type": "code",
      "metadata": {
        "colab": {
          "base_uri": "https://localhost:8080/"
        },
        "id": "wQPoD6DQhWnX",
        "outputId": "675dc078-05ac-4cc3-d625-579a54985f7a"
      },
      "source": [
        "for i in range(1,10,2):\n",
        "  print(' '*(9-int(i/2)), '*'*i, ' '*(9-int(i/2)), sep='' )\n",
        "for k in range(7,0,-2):\n",
        "  print(' '*(9-int(k/2)), '*'*k, ' '*(9-int(k/2)), sep='' )"
      ],
      "execution_count": 25,
      "outputs": [
        {
          "output_type": "stream",
          "text": [
            "         *         \n",
            "        ***        \n",
            "       *****       \n",
            "      *******      \n",
            "     *********     \n",
            "      *******      \n",
            "       *****       \n",
            "        ***        \n",
            "         *         \n"
          ],
          "name": "stdout"
        }
      ]
    },
    {
      "cell_type": "code",
      "metadata": {
        "colab": {
          "base_uri": "https://localhost:8080/"
        },
        "id": "A4D8vHTIjptX",
        "outputId": "a56e3027-1756-4e9c-c58f-ce928913cb0e"
      },
      "source": [
        "# 강사님\n",
        "for i in range(5):\n",
        "  for _ in range(4-i):\n",
        "    print(' ', end='')\n",
        "  for _ in range(2*i+1):\n",
        "    print('*', end='')\n",
        "  print()\n",
        "for i in range(4):\n",
        "  for _ in range(i+1):\n",
        "    print(' ', end='')\n",
        "  for _ in range(7-2*i):\n",
        "    print('*', end='')\n",
        "  print()\n"
      ],
      "execution_count": 29,
      "outputs": [
        {
          "output_type": "stream",
          "text": [
            "    *\n",
            "   ***\n",
            "  *****\n",
            " *******\n",
            "*********\n",
            " *******\n",
            "  *****\n",
            "   ***\n",
            "    *\n"
          ],
          "name": "stdout"
        }
      ]
    },
    {
      "cell_type": "code",
      "metadata": {
        "colab": {
          "base_uri": "https://localhost:8080/"
        },
        "id": "G5Jz-mlDlWr3",
        "outputId": "c09f8a46-68f7-47e4-9ba8-7a563764bf95"
      },
      "source": [
        "for i in range(5):\n",
        "  print(' '*(4-i), '*'*(2*i+1), sep='')   # sep 안 쓰면, 좌측에 blank가 생김.\n",
        "for i in range(4):\n",
        "  print(' '*(i+1), '*'*(7-2*i), sep='')"
      ],
      "execution_count": 33,
      "outputs": [
        {
          "output_type": "stream",
          "text": [
            "    *\n",
            "   ***\n",
            "  *****\n",
            " *******\n",
            "*********\n",
            " *******\n",
            "  *****\n",
            "   ***\n",
            "    *\n"
          ],
          "name": "stdout"
        }
      ]
    },
    {
      "cell_type": "code",
      "metadata": {
        "colab": {
          "base_uri": "https://localhost:8080/"
        },
        "id": "9_yhuKuOmZW4",
        "outputId": "414534ce-61bd-412a-8e27-5a6c8bfb8ddc"
      },
      "source": [
        " # 다른분꺼\n",
        " for i in range(-4, 5):\n",
        "   print(' '*(abs(i)), '*'*(-2*abs(i)+9), sep='')"
      ],
      "execution_count": 34,
      "outputs": [
        {
          "output_type": "stream",
          "text": [
            "    *\n",
            "   ***\n",
            "  *****\n",
            " *******\n",
            "*********\n",
            " *******\n",
            "  *****\n",
            "   ***\n",
            "    *\n"
          ],
          "name": "stdout"
        }
      ]
    },
    {
      "cell_type": "code",
      "metadata": {
        "id": "b9VPYKajpew0"
      },
      "source": [
        ""
      ],
      "execution_count": null,
      "outputs": []
    }
  ]
}