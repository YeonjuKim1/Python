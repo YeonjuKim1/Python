{
  "nbformat": 4,
  "nbformat_minor": 0,
  "metadata": {
    "colab": {
      "name": "u15_u19_심사문제.ipynb",
      "provenance": [],
      "collapsed_sections": []
    },
    "kernelspec": {
      "name": "python3",
      "display_name": "Python 3"
    },
    "language_info": {
      "name": "python"
    }
  },
  "cells": [
    {
      "cell_type": "markdown",
      "metadata": {
        "id": "Cdffu4ZKURnB"
      },
      "source": [
        "# 문제1\n",
        "a + b + c = 1000 (a < b < c)\n",
        "a*a + b*b = c*c 인 피타고라스 수는?"
      ]
    },
    {
      "cell_type": "code",
      "metadata": {
        "colab": {
          "base_uri": "https://localhost:8080/"
        },
        "id": "ABvAjjhxA5ko",
        "outputId": "6f1b6dcb-e2ae-4191-fd8e-fc87dbd9a773"
      },
      "source": [
        "for a in range(1,997):\n",
        "  for b in range(a+1,998):\n",
        "    for c in range(b+1,999):\n",
        "      if a+b+c == 1000 and a*a+b*b==c*c and a<b<c:\n",
        "        print(a,b,c)"
      ],
      "execution_count": null,
      "outputs": [
        {
          "output_type": "stream",
          "text": [
            "200 375 425\n"
          ],
          "name": "stdout"
        }
      ]
    },
    {
      "cell_type": "code",
      "metadata": {
        "id": "PvdC_gm4wolh"
      },
      "source": [
        "# 강사님\n",
        "for a in range(1,333):\n",
        "  c = 1000 - a - b\n",
        "  if c*c == a*a + b*b:\n",
        "    print(a,b,c)"
      ],
      "execution_count": null,
      "outputs": []
    },
    {
      "cell_type": "code",
      "metadata": {
        "id": "IkcXMwq9xp9r"
      },
      "source": [
        "[(a,b,c) for a in range(1,333)\n",
        "            for b in range(a+1, 500)\n",
        "                for c in range(b+1, 1000)\n",
        "                if a+b+c== 1000 and a*a + b*b == c*c]"
      ],
      "execution_count": null,
      "outputs": []
    },
    {
      "cell_type": "markdown",
      "metadata": {
        "id": "gdH745dIVooi"
      },
      "source": [
        "# 문제2\n",
        "본인의 생일을 1998 12 15과 같이 년 월 일로 입력받아 오늘 날짜의 만 나이를 구하는 프로그램을 작성하시오."
      ]
    },
    {
      "cell_type": "code",
      "metadata": {
        "colab": {
          "base_uri": "https://localhost:8080/"
        },
        "id": "vLZXM6PeVI5C",
        "outputId": "4711ca1c-5c41-49e2-baeb-5312522ad6ff"
      },
      "source": [
        "from datetime import date\n",
        "today = date.today()\n",
        "today.year, today.month, today.day"
      ],
      "execution_count": 17,
      "outputs": [
        {
          "output_type": "execute_result",
          "data": {
            "text/plain": [
              "(2021, 8, 1)"
            ]
          },
          "metadata": {
            "tags": []
          },
          "execution_count": 17
        }
      ]
    },
    {
      "cell_type": "code",
      "metadata": {
        "colab": {
          "base_uri": "https://localhost:8080/"
        },
        "id": "CemfgRoWV5p5",
        "outputId": "faf567b7-e5c1-475d-bbb0-7fabb1cb9a68"
      },
      "source": [
        "# 생일이 지난 경우 and 날짜가 같을경우. 년도끼리 뺄셈\n",
        "# 생일이 지나지 않았을 경우, 년도끼리 뺄셈 후 -1\n",
        "y, m, d = map(int, input().split())\n",
        "age = 0\n",
        "if today.month == m and today.day == d:\n",
        "  age = today.year - y\n",
        "elif today.month > m:\n",
        "  age = today.year - y\n",
        "elif today.month == m:\n",
        "  if today.day > d:\n",
        "    age = today.year - y\n",
        "  elif today.day < d:\n",
        "    age = today.year - y -1\n",
        "else:\n",
        "  age = today.year - y -1\n",
        "print(age)"
      ],
      "execution_count": 19,
      "outputs": [
        {
          "output_type": "stream",
          "text": [
            "1984 06 28\n",
            "37\n"
          ],
          "name": "stdout"
        }
      ]
    },
    {
      "cell_type": "code",
      "metadata": {
        "id": "Xnitn_WLyiN7",
        "colab": {
          "base_uri": "https://localhost:8080/"
        },
        "outputId": "1ecee0dc-8d82-46c5-e797-3779017baa05"
      },
      "source": [
        "# 강사님\n",
        "year, month, day = map(int, input('생일 입력').split())\n",
        "year, month, day\n",
        "if month > today.month:\n",
        "    age = today.year - year - 1\n",
        "elif month < today.month:\n",
        "    age = today.year - year\n",
        "else:\n",
        "    if day > today.day:\n",
        "        age = today.year - year - 1\n",
        "    else:\n",
        "        age = today.year - year\n",
        "print(f'만 나이는 {age} 입니다.')"
      ],
      "execution_count": 21,
      "outputs": [
        {
          "output_type": "stream",
          "text": [
            "생일 입력1984 06 28\n",
            "만 나이는 37 입니다.\n"
          ],
          "name": "stdout"
        }
      ]
    },
    {
      "cell_type": "markdown",
      "metadata": {
        "id": "BeeUowP4ZJ5z"
      },
      "source": [
        "# 문제3\n",
        "디지털 시계에 하루동안(00:00~23:59) 3이 표시되는 시간을 초로 환산하면 총 몇 초(second)일까요?\n",
        "\n",
        "디지털 시계는 하루동안 다음과 같이 시:분(00:00~23:59)으로 표시됨.\n"
      ]
    },
    {
      "cell_type": "code",
      "metadata": {
        "id": "15AYbv7DWT1Q"
      },
      "source": [
        "hc = 0\n",
        "mc = 0\n",
        "for h in range(0, 23):\n",
        "  \n",
        "\n",
        "\n",
        "  for m in range(0, 59):\n"
      ],
      "execution_count": null,
      "outputs": []
    },
    {
      "cell_type": "code",
      "metadata": {
        "id": "ITsLWfMszAUr"
      },
      "source": [
        "# 강사님\n",
        "total_seconds = 0\n",
        "for hour in range(24):\n",
        "  for min in range(60):\n",
        "    time = str(hour) + str(min)  #f'{hour:02d}:{min:02d}'\n",
        "    if '3' in time:\n",
        "      total_seconds += 60\n",
        "print(total_seconds)"
      ],
      "execution_count": null,
      "outputs": []
    },
    {
      "cell_type": "markdown",
      "metadata": {
        "id": "m1MpMdqstSGl"
      },
      "source": [
        "# Unit 15. 심사문제\n",
        "\n",
        "표준 입력으로 나이(만 나이)가 입력됩니다(입력 값은 7 이상 입력됨). 교통카드 시스템에서 시내버스 요금은 다음과 같으며 각 나이에 맞게 요금을 차감한 뒤 잔액이 출력되게 만드세요(if, elif 사용). 현재 교통카드에는 9,000원이 들어있습니다.\n",
        "- 어린이(초등학생, 만 7세 이상 12세 이하): 650원\n",
        "- 청소년(중∙고등학생, 만 13세 이상 18세 이하): 1,050원\n",
        "- 어른(일반, 만 19세 이상): 1,250원\n"
      ]
    },
    {
      "cell_type": "code",
      "metadata": {
        "colab": {
          "base_uri": "https://localhost:8080/"
        },
        "id": "o1BMmXXHtRtZ",
        "outputId": "c29ca2ef-0f89-4ab9-fba3-9d20bb4b666a"
      },
      "source": [
        "age = int(input())\n",
        "balance = 9000    # 교통카드 잔액\n",
        "if 7 <= age <= 12:\n",
        "  balance -= 650\n",
        "elif 13 <= age <= 18:\n",
        "  balance -= 1050\n",
        "elif 19 <= age:\n",
        "  balance -= 1250\n",
        "print(balance)"
      ],
      "execution_count": null,
      "outputs": [
        {
          "output_type": "stream",
          "text": [
            "12\n",
            "8350\n"
          ],
          "name": "stdout"
        }
      ]
    },
    {
      "cell_type": "markdown",
      "metadata": {
        "id": "AarLPc1su7QT"
      },
      "source": [
        "# Unit 16. 심사문제\n",
        "표준 입력으로 정수가 입력됩니다. 입력된 정수의 구구단을 출력하는 프로그램을 만드세요(input에서 안내 문자열은 출력하지 않아야 합니다). 출력 형식은 숫자 * 숫자 = 숫자처럼 만들고 숫자와 *, = 사이는 공백을 한 칸 띄웁니다.\n",
        "\n"
      ]
    },
    {
      "cell_type": "code",
      "metadata": {
        "colab": {
          "base_uri": "https://localhost:8080/"
        },
        "id": "yhdFRDU0_4eU",
        "outputId": "95ab240a-4c4d-46d1-d12f-889ef9292113"
      },
      "source": [
        "a = int(input())\n",
        "for i in range(1,10):\n",
        "  print(f'{a} * {i} = {a*i}')"
      ],
      "execution_count": null,
      "outputs": [
        {
          "output_type": "stream",
          "text": [
            "7\n",
            "7 * 1 = 7\n",
            "7 * 2 = 14\n",
            "7 * 3 = 21\n",
            "7 * 4 = 28\n",
            "7 * 5 = 35\n",
            "7 * 6 = 42\n",
            "7 * 7 = 49\n",
            "7 * 8 = 56\n",
            "7 * 9 = 63\n"
          ],
          "name": "stdout"
        }
      ]
    },
    {
      "cell_type": "code",
      "metadata": {
        "id": "3VIKzmR5vG_a"
      },
      "source": [
        "#강사님\n",
        "n = int(input())\n",
        "for i in range(1,10):\n",
        "  print(f'{n} * {i} = {n*i}')"
      ],
      "execution_count": null,
      "outputs": []
    },
    {
      "cell_type": "markdown",
      "metadata": {
        "id": "ijjB7t_IvScF"
      },
      "source": [
        "#Unit 17. 심사문제\n",
        "표준 입력으로 금액(정수)이 입력됩니다. 1회당 요금은 1,350원이고, 교통카드를 사용했을 때마다의 잔액을 각 줄에 출력하는 프로그램을 만드세요(input에서 안내 문자열은 출력하지 않아야 합니다). 단, 최초 금액은 출력하지 않아야 합니다. 그리고 잔액은 음수가 될 수 없으며 잔액이 부족하면 출력을 끝냅니다."
      ]
    },
    {
      "cell_type": "code",
      "metadata": {
        "colab": {
          "base_uri": "https://localhost:8080/"
        },
        "id": "TAzZFJdooRZE",
        "outputId": "ae018e10-82a9-407b-f193-f9249e5fb195"
      },
      "source": [
        "a = int(input())\n",
        "while a >= 1350:\n",
        "  a -= 1350\n",
        "  print(a)"
      ],
      "execution_count": 3,
      "outputs": [
        {
          "output_type": "stream",
          "text": [
            "13500\n",
            "12150 1\n",
            "10800 2\n",
            "9450 3\n",
            "8100 4\n",
            "6750 5\n",
            "5400 6\n",
            "4050 7\n",
            "2700 8\n",
            "1350 9\n",
            "0 10\n"
          ],
          "name": "stdout"
        }
      ]
    },
    {
      "cell_type": "code",
      "metadata": {
        "id": "Rd4BeuYjvUBc"
      },
      "source": [
        "# 강사님\n",
        "balance = int(input())\n",
        "fare = 1350\n",
        "while balance-fare >= 0:\n",
        "  balance -= fare\n",
        "  print(balance)"
      ],
      "execution_count": null,
      "outputs": []
    },
    {
      "cell_type": "code",
      "metadata": {
        "id": "NbTluMe_vclX"
      },
      "source": [
        "#객체지향\n",
        "\n",
        "class Tmoney:\n",
        "  def __init__(self, balance):\n",
        "    self.balance = balance\n",
        "\n",
        "  def pay(self, fare):\n",
        "    if self.balance > fare:\n",
        "      self.balance -= fare\n",
        "      print(f'님의 잔액은 {self.balance}원 입니다.')\n",
        "    else:\n",
        "      print('지불 불가')"
      ],
      "execution_count": 5,
      "outputs": []
    },
    {
      "cell_type": "code",
      "metadata": {
        "colab": {
          "base_uri": "https://localhost:8080/"
        },
        "id": "Px2Dngbjv2Sc",
        "outputId": "1fcd7509-c161-46ba-89cd-661e9fc95a07"
      },
      "source": [
        "balance = int(input())\n",
        "fare = 1350\n",
        "card = Tmoney(balance)\n",
        "\n",
        "while True:\n",
        "  if card.balance <= fare:\n",
        "    break\n",
        "  card.pay(fare)"
      ],
      "execution_count": 6,
      "outputs": [
        {
          "output_type": "stream",
          "text": [
            "13500\n",
            "님의 잔액은 12150원 입니다.\n",
            "님의 잔액은 10800원 입니다.\n",
            "님의 잔액은 9450원 입니다.\n",
            "님의 잔액은 8100원 입니다.\n",
            "님의 잔액은 6750원 입니다.\n",
            "님의 잔액은 5400원 입니다.\n",
            "님의 잔액은 4050원 입니다.\n",
            "님의 잔액은 2700원 입니다.\n",
            "님의 잔액은 1350원 입니다.\n"
          ],
          "name": "stdout"
        }
      ]
    },
    {
      "cell_type": "markdown",
      "metadata": {
        "id": "lZyWUdlGtyu-"
      },
      "source": [
        "# Unit 18. 심사문제\n",
        "표준 입력으로 정수 두 개가 입력됩니다(첫 번째 입력 값의 범위는 1-200, 두 번째 입력 값의 범위는 10-200이며 첫 번째 입력 값은 두 번째 입력 값보다 항상 작습니다). 다음 소스 코드를 완성하여 첫 번째 정수와 두 번째 정수 사이의 숫자 중 3으로 끝나지 않는 숫자가 출력되게 만드세요. 정답에 코드를 작성할 때는 while True:에 맞춰서 들여쓰기를 해주세요."
      ]
    },
    {
      "cell_type": "code",
      "metadata": {
        "colab": {
          "base_uri": "https://localhost:8080/"
        },
        "id": "cE1sPYGuuIFD",
        "outputId": "b935722b-7ae8-47a7-d598-57b49dcbe64c"
      },
      "source": [
        "start, stop = map(int, input().split())\n",
        "i = start\n",
        "while True:\n",
        "  if i > stop:\n",
        "    break\n",
        "  if i % 10 == 3:\n",
        "    i += 1\n",
        "    continue\n",
        "  print(i, end=' ')\n",
        "  i += 1"
      ],
      "execution_count": 12,
      "outputs": [
        {
          "output_type": "stream",
          "text": [
            "21 33\n",
            "21 22 24 25 26 27 28 29 30 31 32 "
          ],
          "name": "stdout"
        }
      ]
    },
    {
      "cell_type": "code",
      "metadata": {
        "id": "Q2mpUOtuv94M",
        "colab": {
          "base_uri": "https://localhost:8080/"
        },
        "outputId": "da0d7029-ef80-4747-dfb2-7eb9ef374c03"
      },
      "source": [
        "# 강사님\n",
        "x, y = list(map(int, input().split()))\n",
        "while True:\n",
        "  if x>y:\n",
        "    break\n",
        "  if x % 10 == 3:\n",
        "    x += 1\n",
        "    continue\n",
        "  print(x, end = ' ')\n",
        "  x += 1"
      ],
      "execution_count": 14,
      "outputs": [
        {
          "output_type": "stream",
          "text": [
            "21 33\n",
            "21 22 24 25 26 27 28 29 30 31 32 "
          ],
          "name": "stdout"
        }
      ]
    },
    {
      "cell_type": "markdown",
      "metadata": {
        "id": "wvGu576x8un1"
      },
      "source": [
        "#Unit 19. 심사문제\n",
        "표준 입력으로 삼각형의 높이가 입력됩니다. 입력된 높이만큼 산 모양으로 별을 출력하는 프로그램을 만드세요(input에서 안내 문자열은 출력하지 않아야 합니다). 이때 출력 결과는 예제와 정확히 일치해야 합니다. 모양이 같더라도 공백이나 빈 줄이 더 들어가면 틀린 것으로 처리됩니다."
      ]
    },
    {
      "cell_type": "code",
      "metadata": {
        "colab": {
          "base_uri": "https://localhost:8080/"
        },
        "id": "5nbuwIF081Va",
        "outputId": "7cc93d6d-5eb3-4d34-dcda-95894cadd2d6"
      },
      "source": [
        "a = int(input())\n",
        "for i in range(a):\n",
        "  for _ in range(a-1-i):\n",
        "    print(' ', end='')\n",
        "  for _ in range(2*i+1):\n",
        "    print('*', end='')\n",
        "  print()"
      ],
      "execution_count": 16,
      "outputs": [
        {
          "output_type": "stream",
          "text": [
            "5\n",
            "    *\n",
            "   ***\n",
            "  *****\n",
            " *******\n",
            "*********\n"
          ],
          "name": "stdout"
        }
      ]
    },
    {
      "cell_type": "code",
      "metadata": {
        "id": "KmXNx1uRwUPG"
      },
      "source": [
        "# u22\n",
        "a,b = map(int, input().split())\n",
        "square = [2 ** i for i in range(a, b+1)]\n",
        "del square[-2]\n",
        "del square[1]\n",
        "square"
      ],
      "execution_count": null,
      "outputs": []
    }
  ]
}