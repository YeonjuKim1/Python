{
  "nbformat": 4,
  "nbformat_minor": 0,
  "metadata": {
    "colab": {
      "name": "u14_else.ipynb",
      "provenance": [],
      "collapsed_sections": []
    },
    "kernelspec": {
      "name": "python3",
      "display_name": "Python 3"
    },
    "language_info": {
      "name": "python"
    }
  },
  "cells": [
    {
      "cell_type": "markdown",
      "metadata": {
        "id": "pxaDMObfl8z5"
      },
      "source": [
        "# Unit 14. else"
      ]
    },
    {
      "cell_type": "code",
      "metadata": {
        "colab": {
          "base_uri": "https://localhost:8080/"
        },
        "id": "2KXTs5Xvl3pw",
        "outputId": "ae5156e6-b3bd-44d8-ff66-5840749f8f07"
      },
      "source": [
        "x = 5\n",
        "if x == 10:\n",
        "  print('It is 10.')\n",
        "else:\n",
        "  print('It is not 10.')"
      ],
      "execution_count": 2,
      "outputs": [
        {
          "output_type": "stream",
          "text": [
            "It is not 10.\n"
          ],
          "name": "stdout"
        }
      ]
    },
    {
      "cell_type": "markdown",
      "metadata": {
        "id": "fM7tg6kynGHM"
      },
      "source": [
        "### 3항 연산자\n",
        "- Java: a = (조건)? 참일때의 값 : 거짓일때의 값\n",
        "- 파이썬: a = 참일떄의 값 if조건 else 거짓일떄의 값"
      ]
    },
    {
      "cell_type": "code",
      "metadata": {
        "colab": {
          "base_uri": "https://localhost:8080/",
          "height": 35
        },
        "id": "rwRWwL0BmcxC",
        "outputId": "7ebde231-2372-4b20-b283-42ea541f485c"
      },
      "source": [
        "x = 1\n",
        "if x % 2 == 0:\n",
        "  y = 'even'\n",
        "else:\n",
        "  y = 'odd'\n",
        "y"
      ],
      "execution_count": 3,
      "outputs": [
        {
          "output_type": "execute_result",
          "data": {
            "application/vnd.google.colaboratory.intrinsic+json": {
              "type": "string"
            },
            "text/plain": [
              "'odd'"
            ]
          },
          "metadata": {
            "tags": []
          },
          "execution_count": 3
        }
      ]
    },
    {
      "cell_type": "code",
      "metadata": {
        "colab": {
          "base_uri": "https://localhost:8080/",
          "height": 35
        },
        "id": "Jnf75P4wnQbm",
        "outputId": "e88e1f5c-9cd5-41c4-d0d1-bb509b2bae66"
      },
      "source": [
        "y = 'even' if x%2 == 0 else 'odd'\n",
        "y"
      ],
      "execution_count": 4,
      "outputs": [
        {
          "output_type": "execute_result",
          "data": {
            "application/vnd.google.colaboratory.intrinsic+json": {
              "type": "string"
            },
            "text/plain": [
              "'odd'"
            ]
          },
          "metadata": {
            "tags": []
          },
          "execution_count": 4
        }
      ]
    },
    {
      "cell_type": "code",
      "metadata": {
        "colab": {
          "base_uri": "https://localhost:8080/"
        },
        "id": "vMW46bgCnmoL",
        "outputId": "be318600-c25c-4cd9-fef0-53ad634ded66"
      },
      "source": [
        "# 90점 이상이면 'A', 80 ~ 89: B, 70~79: C, 60~69: D, ~59: F\n",
        "score = int(input('점수 입력> '))\n",
        "grade = 'A'\n",
        "if score >= 90:\n",
        "  grade = 'A'\n",
        "if 80 <= score < 90:\n",
        "  grade = 'B'\n",
        "if 70 <= score < 80:\n",
        "  grade = 'C'\n",
        "if 60 <= score < 70:\n",
        "  grade = 'D'\n",
        "else:\n",
        "  grade = 'F'\n",
        "print(grade)"
      ],
      "execution_count": 9,
      "outputs": [
        {
          "output_type": "stream",
          "text": [
            "점수 입력> 65\n",
            "D\n"
          ],
          "name": "stdout"
        }
      ]
    },
    {
      "cell_type": "code",
      "metadata": {
        "colab": {
          "base_uri": "https://localhost:8080/"
        },
        "id": "pWnkJ2wnpKnr",
        "outputId": "8badf4a3-03b6-4735-f7ba-7e1408ecfa94"
      },
      "source": [
        "score = int(input('점수 입력> '))\n",
        "grade = 'A'\n",
        "if score >= 90:\n",
        "  grade = 'A'\n",
        "else:\n",
        "  if score >= 80:\n",
        "    grade = 'B'\n",
        "  else:\n",
        "    if score >= 70:\n",
        "      grade = 'C'\n",
        "    else:\n",
        "      if score >=60:\n",
        "        grade = 'D'\n",
        "      else:\n",
        "        grade = 'F'\n",
        "print(grade)"
      ],
      "execution_count": 11,
      "outputs": [
        {
          "output_type": "stream",
          "text": [
            "점수 입력> 77\n",
            "C\n"
          ],
          "name": "stdout"
        }
      ]
    },
    {
      "cell_type": "code",
      "metadata": {
        "colab": {
          "base_uri": "https://localhost:8080/",
          "height": 54
        },
        "id": "IOO4LqNGqqnB",
        "outputId": "b38bd5d2-fd54-4427-cffc-61e64f5777e5"
      },
      "source": [
        "score = int(input('점수 입력> '))\n",
        "grade = 'A' if score >= 90 else \\\n",
        "          'B' if score >= 80 else \\\n",
        "            'C' if score >= 70 else \\\n",
        "              'D' if score >=60 else 'F'\n",
        "grade"
      ],
      "execution_count": 13,
      "outputs": [
        {
          "output_type": "stream",
          "text": [
            "점수 입력> 88\n"
          ],
          "name": "stdout"
        },
        {
          "output_type": "execute_result",
          "data": {
            "application/vnd.google.colaboratory.intrinsic+json": {
              "type": "string"
            },
            "text/plain": [
              "'B'"
            ]
          },
          "metadata": {
            "tags": []
          },
          "execution_count": 13
        }
      ]
    },
    {
      "cell_type": "code",
      "metadata": {
        "colab": {
          "base_uri": "https://localhost:8080/"
        },
        "id": "-__Tz4WGrP3z",
        "outputId": "409a7887-b6c6-464f-9153-e5364196925f"
      },
      "source": [
        "x = 5\n",
        "if x > 0 and x < 10:\n",
        "  print('10보다 작은 양의 정수입니다.')"
      ],
      "execution_count": 14,
      "outputs": [
        {
          "output_type": "stream",
          "text": [
            "10보다 작은 양의 정수입니다.\n"
          ],
          "name": "stdout"
        }
      ]
    },
    {
      "cell_type": "code",
      "metadata": {
        "colab": {
          "base_uri": "https://localhost:8080/"
        },
        "id": "EipEJxJKuyU7",
        "outputId": "23ba542c-83d3-4f07-c587-3107ddd55af1"
      },
      "source": [
        "if 0 < x < 10:\n",
        "  print('10보다 작은 양의 정수입니다.')"
      ],
      "execution_count": 15,
      "outputs": [
        {
          "output_type": "stream",
          "text": [
            "10보다 작은 양의 정수입니다.\n"
          ],
          "name": "stdout"
        }
      ]
    },
    {
      "cell_type": "code",
      "metadata": {
        "id": "STMS5_JTu7xI"
      },
      "source": [
        ""
      ],
      "execution_count": null,
      "outputs": []
    }
  ]
}