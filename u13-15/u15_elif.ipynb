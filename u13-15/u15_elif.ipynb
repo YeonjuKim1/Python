{
  "nbformat": 4,
  "nbformat_minor": 0,
  "metadata": {
    "colab": {
      "name": "u15_elif.ipynb",
      "provenance": [],
      "collapsed_sections": []
    },
    "kernelspec": {
      "name": "python3",
      "display_name": "Python 3"
    },
    "language_info": {
      "name": "python"
    }
  },
  "cells": [
    {
      "cell_type": "markdown",
      "metadata": {
        "id": "6IAtK9vVoCjK"
      },
      "source": [
        "# Unit 15. elif"
      ]
    },
    {
      "cell_type": "code",
      "metadata": {
        "colab": {
          "base_uri": "https://localhost:8080/"
        },
        "id": "xnmgxT-Wn_gm",
        "outputId": "0e2462f4-4067-460c-8870-0fb9f82f38d1"
      },
      "source": [
        "x = 20\n",
        "if x == 10:\n",
        "  print('It is 10.')\n",
        "elif x == 20:\n",
        "  print('It is 20.')\n",
        "else:\n",
        "  print('10,20이 아닙니다.')"
      ],
      "execution_count": 2,
      "outputs": [
        {
          "output_type": "stream",
          "text": [
            "It is 20.\n"
          ],
          "name": "stdout"
        }
      ]
    },
    {
      "cell_type": "code",
      "metadata": {
        "colab": {
          "base_uri": "https://localhost:8080/"
        },
        "id": "IMrNb4O9obqP",
        "outputId": "7d73ae0d-7b5c-4629-c0ca-ef9094782032"
      },
      "source": [
        "# 숫자 - 입력, 3의 배수면 fizz, 5의 배수면 buzz, 15의 배수면 fizzbuzz 출력\n",
        "\n",
        "x = int(input())\n",
        "r = ''\n",
        "if x % 3 == 0:\n",
        "  r = r+'fizz'\n",
        "if x % 5 == 0:\n",
        "  r = r+'buzz'\n",
        "print(r)\n"
      ],
      "execution_count": 7,
      "outputs": [
        {
          "output_type": "stream",
          "text": [
            "45\n",
            "fizzbuzz\n"
          ],
          "name": "stdout"
        }
      ]
    },
    {
      "cell_type": "code",
      "metadata": {
        "colab": {
          "base_uri": "https://localhost:8080/"
        },
        "id": "BoaRi1s9pZhH",
        "outputId": "dfefe85a-9f96-4a08-ec80-862c642c51f9"
      },
      "source": [
        "#강사님\n",
        "\n",
        "number = int(input())\n",
        "if number % 15 == 0:\n",
        "  print('fizzbuzz')\n",
        "elif number % 5 == 0:\n",
        "  print('buzz')\n",
        "elif number % 3 == 0:\n",
        "  print('fizz')\n",
        "else:\n",
        "  print(number)"
      ],
      "execution_count": 8,
      "outputs": [
        {
          "output_type": "stream",
          "text": [
            "30\n",
            "fizzbuzz\n"
          ],
          "name": "stdout"
        }
      ]
    },
    {
      "cell_type": "code",
      "metadata": {
        "colab": {
          "base_uri": "https://localhost:8080/"
        },
        "id": "F9B1Ur7VqePL",
        "outputId": "f3925ecd-3641-4cf1-d3c2-171c1a795232"
      },
      "source": [
        "'Fizz' * False, 'Buzz' * True"
      ],
      "execution_count": 9,
      "outputs": [
        {
          "output_type": "execute_result",
          "data": {
            "text/plain": [
              "('', 'Buzz')"
            ]
          },
          "metadata": {
            "tags": []
          },
          "execution_count": 9
        }
      ]
    },
    {
      "cell_type": "code",
      "metadata": {
        "colab": {
          "base_uri": "https://localhost:8080/"
        },
        "id": "-8H6mFnerN-8",
        "outputId": "b9fa5395-117b-4e89-87f1-584aaceeae35"
      },
      "source": [
        "number = int(input())\n",
        "print('Fizz'*(number%3==0)+'Buzz'*(number%5==0) or number)"
      ],
      "execution_count": 14,
      "outputs": [
        {
          "output_type": "stream",
          "text": [
            "7\n",
            "7\n"
          ],
          "name": "stdout"
        }
      ]
    },
    {
      "cell_type": "code",
      "metadata": {
        "id": "4iNST76xrZxc"
      },
      "source": [
        ""
      ],
      "execution_count": null,
      "outputs": []
    }
  ]
}