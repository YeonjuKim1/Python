{
  "nbformat": 4,
  "nbformat_minor": 0,
  "metadata": {
    "colab": {
      "name": "u13_if.ipynb",
      "provenance": [],
      "collapsed_sections": []
    },
    "kernelspec": {
      "name": "python3",
      "display_name": "Python 3"
    },
    "language_info": {
      "name": "python"
    }
  },
  "cells": [
    {
      "cell_type": "markdown",
      "metadata": {
        "id": "oN7-Gkjngsvg"
      },
      "source": [
        "# Unit 13. if 조건문"
      ]
    },
    {
      "cell_type": "markdown",
      "metadata": {
        "id": "Io_Kl89ghnIf"
      },
      "source": [
        "## 13.1 if 조건문"
      ]
    },
    {
      "cell_type": "code",
      "metadata": {
        "colab": {
          "base_uri": "https://localhost:8080/"
        },
        "id": "IHH5MPjrfxmU",
        "outputId": "14121c33-3bef-4442-e09c-58c7a357cd77"
      },
      "source": [
        "x = 10\n",
        "if x == 10:\n",
        "  print('It is 10.')"
      ],
      "execution_count": 1,
      "outputs": [
        {
          "output_type": "stream",
          "text": [
            "It is 10.\n"
          ],
          "name": "stdout"
        }
      ]
    },
    {
      "cell_type": "code",
      "metadata": {
        "colab": {
          "base_uri": "https://localhost:8080/"
        },
        "id": "Rfo1e3wuh4yR",
        "outputId": "55c0cf18-dc5f-43b3-b395-8e32b6cdd922"
      },
      "source": [
        "x = 9\n",
        "if x:    # x가 0이 아니면 참\n",
        "  print('It is 10.')"
      ],
      "execution_count": 3,
      "outputs": [
        {
          "output_type": "stream",
          "text": [
            "It is 10.\n"
          ],
          "name": "stdout"
        }
      ]
    },
    {
      "cell_type": "markdown",
      "metadata": {
        "id": "bHrGx0gvi_tx"
      },
      "source": [
        "## 13.2 들여쓰기"
      ]
    },
    {
      "cell_type": "code",
      "metadata": {
        "colab": {
          "base_uri": "https://localhost:8080/"
        },
        "id": "WIqHD_WTiH89",
        "outputId": "cfb15a99-c6aa-4b3e-f079-95f52cbe39c8"
      },
      "source": [
        "x = 10\n",
        "\n",
        "if x == 10:\n",
        "  print('x값은')\n",
        "  print('10입니다.')\n",
        "print('언제나 출력됩니다.')\n"
      ],
      "execution_count": 4,
      "outputs": [
        {
          "output_type": "stream",
          "text": [
            "x값은\n",
            "10입니다.\n",
            "언제나 출력됩니다.\n"
          ],
          "name": "stdout"
        }
      ]
    },
    {
      "cell_type": "markdown",
      "metadata": {
        "id": "T_oqioTVkFPJ"
      },
      "source": [
        "## 13.3 중첩 if 조건문"
      ]
    },
    {
      "cell_type": "code",
      "metadata": {
        "colab": {
          "base_uri": "https://localhost:8080/"
        },
        "id": "o4dGql9gkD5A",
        "outputId": "eceb5f1c-af7a-4d51-f332-041537e61786"
      },
      "source": [
        "x = 15\n",
        "if x > 10:\n",
        "  print('10보다 큰 숫자입니다.')\n",
        "  if x == 15:\n",
        "    print('15입니다.')\n",
        "  if x == 20:\n",
        "    print('20입니다.')"
      ],
      "execution_count": 6,
      "outputs": [
        {
          "output_type": "stream",
          "text": [
            "10보다 큰 숫자입니다.\n",
            "15입니다.\n"
          ],
          "name": "stdout"
        }
      ]
    },
    {
      "cell_type": "code",
      "metadata": {
        "colab": {
          "base_uri": "https://localhost:8080/"
        },
        "id": "dZkIAukKkcJd",
        "outputId": "67685623-0ac9-4243-ba4b-a80189054f35"
      },
      "source": [
        "x = int(input('정수를 입력하세요> '))\n",
        "if x > 10:\n",
        "  print('10보다 큰 숫자입니다.')\n",
        "  if x == 15:\n",
        "    print('15입니다.')\n",
        "  if x == 20:\n",
        "    print('20입니다.')"
      ],
      "execution_count": 7,
      "outputs": [
        {
          "output_type": "stream",
          "text": [
            "정수를 입력하세요> 20\n",
            "10보다 큰 숫자입니다.\n",
            "20입니다.\n"
          ],
          "name": "stdout"
        }
      ]
    },
    {
      "cell_type": "code",
      "metadata": {
        "id": "lEXm7VN-lS2-"
      },
      "source": [
        ""
      ],
      "execution_count": null,
      "outputs": []
    }
  ]
}