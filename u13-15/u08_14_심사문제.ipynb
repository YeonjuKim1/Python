{
  "nbformat": 4,
  "nbformat_minor": 0,
  "metadata": {
    "colab": {
      "name": "5회차_김연주(과제).ipynb",
      "provenance": [],
      "collapsed_sections": []
    },
    "kernelspec": {
      "name": "python3",
      "display_name": "Python 3"
    },
    "language_info": {
      "name": "python"
    }
  },
  "cells": [
    {
      "cell_type": "markdown",
      "metadata": {
        "id": "9rfSUAzjwKGF"
      },
      "source": [
        "# Unit 8. 심사문제\n",
        "표준 입력으로 국어, 영어, 수학, 과학 점수가 입력됩니다. 국어는 90점 이상, 영어는 80점 초과, 수학은 85점 초과, 과학은 80점 이상일 때 합격이라고 정했습니다(한 과목이라도 조건에 만족하지 않으면 불합격). 다음 소스 코드를 완성하여 합격이면 True, 불합격이면 False가 출력되게 만드세요(input에서 안내 문자열은 출력하지 않아야 합니다)."
      ]
    },
    {
      "cell_type": "code",
      "metadata": {
        "colab": {
          "base_uri": "https://localhost:8080/"
        },
        "id": "cCn0w0Mpxgh5",
        "outputId": "872b3d68-0c78-4146-e646-d09846a02d7d"
      },
      "source": [
        "kor, eng, mat, sci = input('점수 입력> ').split()\n",
        "result = 'true'\n",
        "if int(kor) < 90:\n",
        "  result = 'false'\n",
        "if int(eng) < 80:\n",
        "  result = 'false'\n",
        "if int(mat) < 85:\n",
        "  result = 'false'\n",
        "if int(sci) < 80:\n",
        "  result = 'false'\n",
        "print(result)"
      ],
      "execution_count": null,
      "outputs": [
        {
          "output_type": "stream",
          "text": [
            "점수 입력> 90 80 85 80\n",
            "true\n"
          ],
          "name": "stdout"
        }
      ]
    },
    {
      "cell_type": "code",
      "metadata": {
        "id": "aamsW9V7lPsD"
      },
      "source": [
        "# 강사님\n",
        "kor, eng, mat, sci = list(map(int, input().split()))\n",
        "kor >= 90 and eng > 80 and mat > 85 and sci >= 80"
      ],
      "execution_count": null,
      "outputs": []
    },
    {
      "cell_type": "markdown",
      "metadata": {
        "id": "4gLmywCt0Uiz"
      },
      "source": [
        "# Unit 9. 심사문제\n",
        "다음 소스 코드를 완성하여 실행 결과대로 문자열이 출력되게 만드세요.\n",
        "\n",
        "'Python' is a \"programming language\"\n",
        "\n",
        "that lets you work quickly\n",
        "\n",
        "and\n",
        "\n",
        "integrate systems more effectively."
      ]
    },
    {
      "cell_type": "code",
      "metadata": {
        "colab": {
          "base_uri": "https://localhost:8080/"
        },
        "id": "_Duced_nzXts",
        "outputId": "6734c888-a1c4-4dc1-a4d0-6401dc727329"
      },
      "source": [
        "s = '''\\'Python\\' is a \\\"programming language\\\"\n",
        "that lets you work quickly\n",
        "and\n",
        "integrate systems more effectively.'''\n",
        "print(s)"
      ],
      "execution_count": null,
      "outputs": [
        {
          "output_type": "stream",
          "text": [
            "'Python' is a \"programming language\"\n",
            "that lets you work quickly\n",
            "and\n",
            "integrate systems more effectively.\n"
          ],
          "name": "stdout"
        }
      ]
    },
    {
      "cell_type": "code",
      "metadata": {
        "id": "7kd4thqHlqhw"
      },
      "source": [
        "# 강사님\n",
        "\n",
        "s = '''\\'Python\\' is a \"programming language\"\n",
        "that lets you work quickly\n",
        "and\n",
        "integrate systems more effectively.'''\n",
        "print(s)"
      ],
      "execution_count": null,
      "outputs": []
    },
    {
      "cell_type": "markdown",
      "metadata": {
        "id": "2PRdoA6c1F55"
      },
      "source": [
        "# Unit 10. 심사문제\n",
        "표준 입력으로 정수가 입력됩니다. range의 시작하는 숫자는 -10, 끝나는 숫자는 10이며 입력된 정수만큼 증가하는 숫자가 들어가도록 튜플을 만들고, 해당 튜플을 출력하는 프로그램을 만드세요(input에서 안내 문자열은 출력하지 않아야 합니다)."
      ]
    },
    {
      "cell_type": "code",
      "metadata": {
        "colab": {
          "base_uri": "https://localhost:8080/"
        },
        "id": "cgP8p8_C0-9o",
        "outputId": "f5e10a40-d6bf-4be1-93e4-5b64a4a5fff9"
      },
      "source": [
        "a = int(input())\n",
        "t = tuple(range(-10, 10, a))\n",
        "t"
      ],
      "execution_count": null,
      "outputs": [
        {
          "output_type": "stream",
          "text": [
            "3\n"
          ],
          "name": "stdout"
        },
        {
          "output_type": "execute_result",
          "data": {
            "text/plain": [
              "(-10, -7, -4, -1, 2, 5, 8)"
            ]
          },
          "metadata": {
            "tags": []
          },
          "execution_count": 18
        }
      ]
    },
    {
      "cell_type": "markdown",
      "metadata": {
        "id": "YkiVh26T6KLT"
      },
      "source": [
        "# Unit 11. 심사문제1\n",
        "표준 입력으로 숫자 또는 문자열 여러 개가 입력되어 리스트 x에 저장됩니다(입력되는 숫자 또는 문자열의 개수는 정해져 있지 않음). 다음 소스 코드를 완성하여 리스트 x의 마지막 요소 5개를 삭제한 뒤 튜플로 출력되게 만드세요."
      ]
    },
    {
      "cell_type": "code",
      "metadata": {
        "colab": {
          "base_uri": "https://localhost:8080/"
        },
        "id": "O3nVRO5Y57Dz",
        "outputId": "39414551-0e92-46c1-8be0-516a256fed2b"
      },
      "source": [
        "x = input().split()\n",
        "t = tuple(x[0:len(x)-5])\n",
        "t\n"
      ],
      "execution_count": null,
      "outputs": [
        {
          "output_type": "stream",
          "text": [
            "1 2 3 4 5 6 7 8 9 10\n"
          ],
          "name": "stdout"
        },
        {
          "output_type": "execute_result",
          "data": {
            "text/plain": [
              "('1', '2', '3', '4', '5')"
            ]
          },
          "metadata": {
            "tags": []
          },
          "execution_count": 25
        }
      ]
    },
    {
      "cell_type": "code",
      "metadata": {
        "id": "l_x4tHoY9LIj"
      },
      "source": [
        "#강사님\n",
        "x = input().split()\n",
        "print(tuple(x[:-5]))"
      ],
      "execution_count": null,
      "outputs": []
    },
    {
      "cell_type": "markdown",
      "metadata": {
        "id": "UuqDq4FC_Fpr"
      },
      "source": [
        "# Unit 11. 심사문제2\n",
        "표준 입력으로 문자열 두 개가 각 줄에 입력됩니다(문자열의 길이는 정해져 있지 않음). 첫 번째 문자열에서 인덱스가 홀수인 문자와 두 번째 문자열에서 인덱스가 짝수인 문자를 연결하여 출력하는 프로그램을 만드세요(input에서 안내 문자열은 출력하지 않아야 합니다). 연결 순서는 첫 번째 문자열, 두 번째 문자열 순입니다. 그리고 0은 짝수로 처리합니다."
      ]
    },
    {
      "cell_type": "code",
      "metadata": {
        "colab": {
          "base_uri": "https://localhost:8080/"
        },
        "id": "PfAb3FrA_IRp",
        "outputId": "d67fecf8-38ce-406a-dcac-9063550a0597"
      },
      "source": [
        "a = input()\n",
        "b = input()\n",
        "a = a[1::2]\n",
        "b = b[0::2]\n",
        "print(a+b)"
      ],
      "execution_count": null,
      "outputs": [
        {
          "output_type": "stream",
          "text": [
            "apple\n",
            "strawberry\n",
            "plsrwer\n"
          ],
          "name": "stdout"
        }
      ]
    },
    {
      "cell_type": "code",
      "metadata": {
        "id": "hVKpXpaKmHta"
      },
      "source": [
        "#강사님\n",
        "first = input()\n",
        "second = input()\n",
        "new = first[1::2] + second[::2]\n",
        "print(new)"
      ],
      "execution_count": null,
      "outputs": []
    },
    {
      "cell_type": "markdown",
      "metadata": {
        "id": "uQRDoe3yA0S6"
      },
      "source": [
        "# Unit 12. 심사문제\n",
        "표준 입력으로 문자열 여러 개와 숫자(실수) 여러 개가 두 줄로 입력됩니다. 입력된 첫 번째 줄은 키, 두 번째 줄은 값으로 하여 딕셔너리를 생성한 뒤 딕셔너리를 출력하는 프로그램을 만드세요. input().split()의 결과를 변수 한 개에 저장하면 리스트로 저장됩니다."
      ]
    },
    {
      "cell_type": "code",
      "metadata": {
        "colab": {
          "base_uri": "https://localhost:8080/"
        },
        "id": "TfXaMDWT_ttD",
        "outputId": "0ac1361c-80ba-4e9a-863d-bd64436cde7f"
      },
      "source": [
        "a = input().split()\n",
        "b = input().split()\n",
        "lux = dict(zip(a, b))\n",
        "lux"
      ],
      "execution_count": null,
      "outputs": [
        {
          "output_type": "stream",
          "text": [
            "health mana melee attack_speed magic_resistance\n",
            "573.6 308.8 600 0.625 35.7\n"
          ],
          "name": "stdout"
        },
        {
          "output_type": "execute_result",
          "data": {
            "text/plain": [
              "{'attack_speed': '0.625',\n",
              " 'health': '573.6',\n",
              " 'magic_resistance': '35.7',\n",
              " 'mana': '308.8',\n",
              " 'melee': '600'}"
            ]
          },
          "metadata": {
            "tags": []
          },
          "execution_count": 31
        }
      ]
    },
    {
      "cell_type": "code",
      "metadata": {
        "id": "xIRN7ZsYDvXu"
      },
      "source": [
        "#강사님\n",
        "keys = input().split()\n",
        "values = list(map(float, input().split()))\n",
        "dict(zip(keys, values))"
      ],
      "execution_count": null,
      "outputs": []
    },
    {
      "cell_type": "markdown",
      "metadata": {
        "id": "hD5lkOqCERTa"
      },
      "source": [
        "# Unit 13. 심사문제\n",
        "표준 입력으로 가격(정수)과 쿠폰 이름이 각 줄에 입력됩니다. Cash3000 쿠폰은 3,000원, Cash5000 쿠폰은 5,000원을 할인합니다. 쿠폰에 따라 할인된 가격을 출력하는 프로그램을 만드세요(input에서 안내 문자열은 출력하지 않아야 합니다)."
      ]
    },
    {
      "cell_type": "code",
      "metadata": {
        "colab": {
          "base_uri": "https://localhost:8080/"
        },
        "id": "ZlDd3VJlETIg",
        "outputId": "049b1273-8cd1-4fea-ddec-e415255d75a1"
      },
      "source": [
        "a = int(input())\n",
        "b = input()\n",
        "r = 0\n",
        "if b == 'Cash3000':\n",
        "  r = a - 3000\n",
        "if b == 'Cash5000':\n",
        "  r = a - 5000\n",
        "r"
      ],
      "execution_count": null,
      "outputs": [
        {
          "output_type": "stream",
          "text": [
            "72000\n",
            "Cash5000\n"
          ],
          "name": "stdout"
        },
        {
          "output_type": "execute_result",
          "data": {
            "text/plain": [
              "67000"
            ]
          },
          "metadata": {
            "tags": []
          },
          "execution_count": 33
        }
      ]
    },
    {
      "cell_type": "code",
      "metadata": {
        "id": "YTvGtJhumtMx"
      },
      "source": [
        "#강사님\n",
        "price = int(input())\n",
        "coupon = input()\n",
        "if coupon == 'Cash3000':\n",
        "  print(price - 3000)\n",
        "if coupon == 'Cash5000':\n",
        "  print(price - 5000)"
      ],
      "execution_count": null,
      "outputs": []
    },
    {
      "cell_type": "markdown",
      "metadata": {
        "id": "TQzWDVsDE8UM"
      },
      "source": [
        "# Unit 14. 심사문제\n",
        "표준 입력으로 국어, 영어, 수학, 과학 점수가 입력됩니다. 여기서 네 과목의 평균 점수가 80점 이상일 때 합격이라고 정했습니다. 평균 점수에 따라 '합격', '불합격'을 출력하는 프로그램을 만드세요(input에서 안내 문자열은 출력하지 않아야 합니다). 단, 점수는 0점부터 100점까지만 입력받을 수 있으며 범위를 벗어났다면 '잘못된 점수'를 출력하고 합격, 불합격 여부는 출력하지 않아야 합니다."
      ]
    },
    {
      "cell_type": "code",
      "metadata": {
        "colab": {
          "base_uri": "https://localhost:8080/"
        },
        "id": "hZ1Pkk11EzyP",
        "outputId": "d1809722-56a8-4dcd-a669-d053638896c1"
      },
      "source": [
        "kor, eng, mat, sci = input().split()\n",
        "kor = int(kor)\n",
        "eng = int(eng)\n",
        "mat = int(mat)\n",
        "sci = int(sci)\n",
        "ave = 0\n",
        "result = '불합격'\n",
        "if 0 <= kor <= 100 and 0 <= eng <= 100 and 0 <= mat <= 100 and 0 <= sci <= 100:\n",
        "  ave = (kor + eng + mat + sci) / 4\n",
        "  if ave >= 80:\n",
        "    result = '합격'\n",
        "  else:\n",
        "    result = '불합격'\n",
        "else:\n",
        "  result = '잘못된 점수'\n",
        "\n",
        "print(result)\n"
      ],
      "execution_count": null,
      "outputs": [
        {
          "output_type": "stream",
          "text": [
            "99 85 101 90\n",
            "잘못된 점수\n"
          ],
          "name": "stdout"
        }
      ]
    },
    {
      "cell_type": "code",
      "metadata": {
        "id": "YnIhiAKXm-X0"
      },
      "source": [
        "#강사님\n",
        "score = list(map(int, input().split()))\n",
        "if min(score) < 0 or max(score) > 100:\n",
        "  print('잘못된 점수')\n",
        "else:\n",
        "  avg = sum(score) / len(score)\n",
        "  if avg >= 80:\n",
        "    print('합격')\n",
        "  else:\n",
        "    print('불합격')"
      ],
      "execution_count": null,
      "outputs": []
    },
    {
      "cell_type": "code",
      "metadata": {
        "id": "jseU1oNrFVZp"
      },
      "source": [
        ""
      ],
      "execution_count": null,
      "outputs": []
    }
  ]
}